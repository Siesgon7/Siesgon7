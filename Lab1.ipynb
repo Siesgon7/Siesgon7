{
  "cells": [
    {
      "cell_type": "markdown",
      "metadata": {
        "cell_id": "097fce6dce21405c911254a775ae3d26",
        "deepnote_cell_type": "markdown",
        "id": "J4_IcuuKZj9Y"
      },
      "source": [
        "<h1><center>Laboratorio 1: Git 👾</center></h1>\n",
        "\n",
        "<center><strong>MDS7202: Laboratorio de Programación Científica para Ciencia de Datos - Primavera 2024</strong></center>"
      ]
    },
    {
      "cell_type": "markdown",
      "metadata": {
        "cell_id": "9e8e8f2ae34e461da4f44508a96d2cf4",
        "deepnote_cell_type": "markdown",
        "id": "AEXIACc7aADv"
      },
      "source": [
        "### Cuerpo Docente:\n",
        "\n",
        "- Profesores: Ignacio Meza, Sebastián Tinoco\n",
        "- Auxiliar: Eduardo Moya\n",
        "- Ayudantes: Nicolás Ojeda, Melanie Peña, Valentina Rojas"
      ]
    },
    {
      "cell_type": "markdown",
      "metadata": {
        "cell_id": "3e5b48c23e1b48f6a64de41899166179",
        "deepnote_cell_type": "markdown",
        "id": "0HgMMyoCaG8X"
      },
      "source": [
        "### Equipo: **SUPER IMPORTANTE - notebooks sin nombre no serán revisados**\n",
        "\n",
        "- Nombre de alumno 1: Sivert Escaff G.\n",
        "- Nombre de alumno 2:"
      ]
    },
    {
      "cell_type": "markdown",
      "metadata": {
        "cell_id": "1db7c82b68614d19b112ba3b0d0abe4d",
        "deepnote_cell_type": "markdown",
        "id": "fz77X6glaK6y"
      },
      "source": [
        "### **Link de repositorio de GitHub:** [Insertar Enlace](https://)"
      ]
    },
    {
      "cell_type": "markdown",
      "metadata": {
        "cell_id": "bc3dac65089d4ae6a43c079547dee179",
        "deepnote_cell_type": "markdown",
        "id": "rRwqaxIZaNx3"
      },
      "source": [
        "## Reglas:\n",
        "\n",
        "- **Grupos de 2 personas**\n",
        "- Fecha de entrega: 6 días de plazo con descuento de 1 punto por día. Entregas Jueves a las 23:59.\n",
        "- Instrucciones del lab el viernes a las 16:15 en formato online. Asistencia no es obligatoria.\n",
        "- <u>Prohibidas las copias</u>. Cualquier intento de copia será debidamente penalizado con el reglamento de la escuela.\n",
        "- Tienen que subir el laboratorio a u-cursos y a su repositorio de github. Labs que no estén en u-cursos no serán revisados. Recuerden que el repositorio también tiene nota.\n",
        "- Cualquier duda fuera del horario de clases al foro. Mensajes al equipo docente serán respondidos por este medio.\n",
        "- Pueden usar cualquier material del curso que estimen conveniente."
      ]
    },
    {
      "cell_type": "markdown",
      "metadata": {
        "cell_id": "05e4729411a24153837fd13b7f198bd9",
        "deepnote_cell_type": "markdown",
        "id": "bmToL27JaSrf"
      },
      "source": [
        "## Objetivos del lab:\n",
        "\n",
        "\n",
        "- Conocer los elementos básicos que conformar `Git`\n",
        "- Clonar repositorios\n",
        "- Identificar ramas de un repositorio\n",
        "- Reconocer y solucionar problemas entre ramas\n",
        "- Subir cambios a un repositorio"
      ]
    },
    {
      "cell_type": "markdown",
      "metadata": {
        "cell_id": "5ebae9d601bd4d508349ab55297e9f82",
        "deepnote_cell_type": "markdown",
        "id": "bvnPCvrVbJLK"
      },
      "source": [
        "## Parte 1: Conocimiento Teórico (2.5 pts)\n",
        "\n",
        "<p align=\"center\">\n",
        "  <img src=\"https://cdn.thedesigninspiration.com/wp-content/uploads/sites/3/2019/04/macintosh-hdusersbrittanyloefflerdownloadsanig-1.gif\" width=\"350\">\n",
        "</p>"
      ]
    },
    {
      "cell_type": "markdown",
      "metadata": {
        "cell_id": "627494dba4f84520b3ee8b9cbf58ee79",
        "deepnote_cell_type": "markdown",
        "id": "JHl-24XnbNLF"
      },
      "source": [
        "Responda las siguientes preguntas (0.2 pts c/u):\n",
        "\n",
        "1. ¿Qué es `Git` y cómo se relaciona con el control de versiones?\n",
        "Git es un DVCS (distributed version control system) distribuido que su principal funcion es permitir el trabajo colaborativo de manera que cada colaborador puede pueda aportar su trabajo en un objetivo comun, esto se puede hacer gracias a que al ser distribuido permite tener una copia del trabajo en cada colaborador y un server central, cuando se hace una modificacion, esta es guardada en todo los puntos de la distribucion. Git permite mantener un registro (que se hace de manera automatica) de los cambios realizados en el trabajo, obteniendo asi la facilidad de revertir a versiones anteriores del proyecto, compara resultados y ademas conociendo quien realizo que cambio en que fecha.\n",
        "\n",
        "2. Nombre y explique 3 diferencias entre `Git` y `Github`.\n",
        "Como se dijo antes Git es un sistema de control distribuido y Github es un servicio de alojamiento basado en web, esto significa que Git es un software que realiza en particula la funcion de Github pero de manera mas completa ya que se puede conocer versiones anteriores de los trabajos colaborativos.\n",
        "\n",
        "Git es una herramienta que su lenguaje son lineas de comando, por otro lado, Github entrega una interfaz grafica donde se pueden subir copias de repositorios hechos en Git.\n",
        "De cierta manera Git, es el software que permite el trabajo en equipo y un manejo de versiones donde se pueden visualizar y administrar con las caracateristicas y extensiones extras que ofrece Github.\n",
        "\n",
        "\n",
        "3. ¿Qué es un `hash` y cómo se representa en un `commit`? De un ejemplo.\n",
        "Hash es un identificador (corresponde a un codigo de 40 caracteres de letras o numeros) o nombre para algun modelo de datos en Git como por ejemplo un snapshoto o un blob o un tree, esto ayuda para saber si cambia un nuevo hash es por que se sufrio un cambio en el trabajo. Un commit es la confirmacion de un cambio de version y este cambio se representa por un hash tambien.\n",
        "Imaginemos que se realiza un commit en un workbench local, esto luego de hacer los cambios, entonces Git calculara un hash para ese commit.\n",
        "\n",
        "4. ¿Que elementos componen a la estructura de datos de `Git`?\n",
        "Git utilizado datos key-value y los elementos que componen los datos son trees,comment y blob. Investigando existen mas como ramas tags entre otros.\n",
        "\n",
        "5. ¿Que comandos de `Git` sirven para crear un repositorio y hacer seguimiento a cambios en los archivos?\n",
        "El comando que sirve para crear un repositorio es git init. Por otro lado, para agregar el archivo a la zona de confirmacion debemos usar git add , luego de ejecutamos git commit -m para confirma los cambios.\n",
        "Con el comando status podemos conocer el estado del archivo y si existe alguna confirmacion por hacer."
      ]
    },
    {
      "cell_type": "markdown",
      "metadata": {
        "cell_id": "6d06c40f429044a298b27c666f51f46f",
        "deepnote_cell_type": "markdown",
        "id": "2tXCSkf0caG8"
      },
      "source": [
        "<code>Escriba sus respuestas acá:</code>"
      ]
    },
    {
      "cell_type": "markdown",
      "metadata": {
        "cell_id": "ec9855406e324cc98b59e33500faea84",
        "deepnote_cell_type": "markdown",
        "id": "MACccbP4gU43"
      },
      "source": [
        "Responda si las siguientes afirmaciones son Verdaderas (V) o Falsas (F). Justifique en **cualquiera** de los casos (0.2 pts c/u):\n",
        "\n",
        "\n",
        "6. `Git` siempre resuelve automáticamente los problemas de lineas al hacer merge entre diferentes ramas. \n",
        "False, esto no ocurre siempre ya que si dos usuarios hacen cambios diferentes en un mismo archivo, creando dos ramas y luego las intentan unir, Git dejara esto como pendiente y se debe decidir cual elegir de manera manual.\n",
        "\n",
        "7. Ejecutar `git pull` sobre un repositorio es equivalente a ejecutar `git clone`.\n",
        "False, Git clone nos sirve para crear una copia local de nuestro repositorio, por otro lado, git puill es un comando que nos sirve para actualizar el repositorio local con los cambios que se han realizado en el repositorio web o server.\n",
        "\n",
        "8. `git status` genera los mismos resultados que `git log`.\n",
        "False, ya que git status nos da información sobre el estado actual del repositorio y git log nos muestra el historial de commit (confirmacion de cambios) que se han hecho anteriormente.\n",
        "\n",
        "9. En `Git` es posible deshacer cambios y volver a versiones anteriores del código.\n",
        "Verdadero, de hecho es la gran ventaja de git, este nos permite de una manera sencilla obtener veriones anteriores o desaher algun trabajo hecho anteriormente. \n",
        "\n",
        "10. El comando `git commit` se utiliza para enviar cambios al repositorio remoto.\n",
        "False, este se usa oara hacer cambios en el repositorio local pero no los envia al remoto."
      ]
    },
    {
      "cell_type": "markdown",
      "metadata": {
        "cell_id": "7e6a5a6e15b045cc9d104cf017825f1a",
        "deepnote_cell_type": "markdown",
        "id": "DFnmCToOgeM3"
      },
      "source": [
        "<code>Escriba sus respuestas acá:</code>"
      ]
    },
    {
      "cell_type": "markdown",
      "metadata": {
        "cell_id": "54317cad024744ebaf4938df55ba3b95",
        "deepnote_cell_type": "markdown",
        "id": "LYq55sI2Rjf0"
      },
      "source": [
        "Por último, investigue y comente con sus palabras para qué sirven los siguientes comandos:\n",
        "\n",
        "11. `git stash` (0.25 puntos)\n",
        "este comando nos sirve para guardar temporalmente los cambios en le  directorio de trabajo pero que por algun motivo no esten listos para un commit.\n",
        "\n",
        "\n",
        "12. `git reset`. ¿Cuál es la diferencia de este comando con `git revert`?. (0.25 puntos)\n",
        "Si bien son comandos que sirven para dehacer cambios, funcionan de manera diferente.\n",
        "Git reset cambia el punto Head , opcionalmente el indice de stading area y el directorio a un estado anterior especifico.Por otro lado, git revert crea un nuevo commit que invierte los cambios introducidos por uno o mas commits anteriormente hechos."
      ]
    },
    {
      "cell_type": "markdown",
      "metadata": {
        "cell_id": "3e4d8b9974e4426ca38fd20f4b835a55",
        "deepnote_cell_type": "markdown",
        "id": "i7Em9JkbbRLo"
      },
      "source": [
        "## Parte 2: Creando una presentación personal (1.5 pts)\n",
        "\n",
        "<p align=\"center\">\n",
        "  <img src=\"https://media.tenor.com/arqlNu8gyJYAAAAC/cat-cat-jumping.gif\" width=\"150\">\n",
        "</p>\n",
        "\n"
      ]
    },
    {
      "cell_type": "markdown",
      "metadata": {
        "cell_id": "988648005dba4b9782c6625dfe6ae4ef",
        "deepnote_cell_type": "markdown",
        "id": "XWIHfyrlbYOJ"
      },
      "source": [
        "Para empezar a \"*soltar las manos*\" con `Git`, se les encomienda crear un repositorio con una presentación personal. El repositorio debe contener un breve resumen de quienes son ustedes, sus gustos, experiencias, y cualquier otro detalle interesante que ustedes consideren relevante.\n",
        "\n",
        "Para realizar esto, deben seguir los siguientes pasos:\n",
        "\n",
        "1. Contar con una cuenta de github (1 por persona)\n",
        "2. Crear un repositorio con su nombre de usuario\n",
        "3. Vincular el repositorio a su ambiente local ¿Qué comando(s) me permiten hacer esto?\n",
        "el comando se ejecuta en vsc (terminal) y escribimos: git clone https://github.com/Siesgon7/Siesgon7.git\n",
        "4. Crear un archivo `readme.md` con la información que ustedes deseen compartir.\n",
        "5. Realizar `push` con los cambios generados\n",
        "\n",
        "A modo de ejemplo, pueden guiarse por esta *suculenta* [presentación](https://github.com/Mezosky)\n",
        "\n",
        "**Nota: Deben trabajar todos estos puntos desde su ambiente local**\n",
        "\n",
        "*Hint: Una buena opción es usar templates de presentación personal que encuentren en Google, como los que ofrece este [sitio](https://durgeshsamariya.github.io/awesome-github-profile-readme-templates/#/)*.\n",
        "\n",
        "**Entregable:**\n",
        "\n",
        "Enlace al repositorio con la presentación personal.\n",
        "\n",
        "IMPORTANTE: DEBEN ADJUNTAR UN ENLACE POR PERSONA"
      ]
    },
    {
      "cell_type": "markdown",
      "metadata": {
        "cell_id": "081b38d55dc54282bc8e3cd300ce9d3e",
        "deepnote_cell_type": "markdown",
        "id": "IIkWyl9tf0Sg"
      },
      "source": [
        "<code>Link Presentacion 1:</code>  https://github.com/Siesgon7/Siesgon7/blob/main/README.md\n",
        "\n",
        "<code>Link Presentacion 2:</code>"
      ]
    },
    {
      "cell_type": "markdown",
      "metadata": {
        "cell_id": "0481a05d2d1a46928f6cfb7762720980",
        "deepnote_cell_type": "markdown",
        "id": "CAzXOwvDY-IG"
      },
      "source": [
        "## Parte 3: Trabajando sobre un repositorio externo (2 pts)\n",
        "\n",
        "<p align=\"center\">\n",
        "  <img src=\"https://media.tenor.com/YXL-0SK15j4AAAAC/dance-animals.gif\" width=\"300\">\n",
        "</p>\n",
        "\n",
        "Tras muchos dolores de cabeza, un grupo de entusiastas académicos decidieron aprender sobre `Git` y así trabajar colaborativamente de forma más ordenada y eficiente. Después de una infinidad de intentos y aprender de sus errores \"*a la mala*\", los académicos lograron levantar un [repositorio](https://github.com/MDS7202/lab1) en `Github`. Usando el repositorio de los académicos, responda las siguientes preguntas (**incluya también los comandos en `Git` ocupados**):\n"
      ]
    },
    {
      "cell_type": "markdown",
      "metadata": {
        "cell_id": "bcef73b2e8604579bde90ed6622abfe9",
        "deepnote_cell_type": "markdown",
        "id": "BFRnAw0rfguR"
      },
      "source": [
        "1. Clone el repositorio a su ambiente local. (0.25 pts)\n",
        "\n"
      ]
    },
    {
      "cell_type": "markdown",
      "metadata": {
        "cell_id": "5d126ac3819c44479af94d3895bc4c97",
        "deepnote_cell_type": "markdown",
        "id": "KXro32yBeilN"
      },
      "source": [
        "<code>Escriba sus respuestas acá:</code>\n",
        "\n",
        "se clona el repositorio en el ambiente local con el codigo : git clone https://github.com/MDS7202/lab1.git"
      ]
    },
    {
      "cell_type": "markdown",
      "metadata": {
        "cell_id": "e215e4e25b2440f09ac273ba63603986",
        "deepnote_cell_type": "markdown",
        "id": "8QB-GKmQRjf1"
      },
      "source": [
        "2. Descomprima los archivos subidos con la tarea en U-cursos en la carpeta recién clonada de github. Una vez realizado esto, cree un archivo `.gitignore` con el cual omita la carpeta `videos` y los archivos con la extensión `.txt` exceptuando el archivo `171.txt` de la carpeta `texts`. (0.25 pts)\n",
        "\n"
      ]
    },
    {
      "cell_type": "markdown",
      "metadata": {
        "cell_id": "186233b44d004e3bbd86262d010188b5",
        "deepnote_cell_type": "markdown",
        "id": "7VJ8IIYpRjf1"
      },
      "source": [
        "<code>Para esta pregunta usted deberá adjuntar el .gitignore creado en su repo.</code>\n",
        "\n",
        "para esto en la carpeta .gitignore escribirmos el siguiente codigo:\n",
        "\n",
        "videos/\n",
        "*.txt\n",
        "!texts/171.txt"
      ]
    },
    {
      "cell_type": "markdown",
      "metadata": {
        "cell_id": "1de150590a41484a988b8e46616a2324",
        "deepnote_cell_type": "markdown",
        "id": "q2qmiDyjt2M_"
      },
      "source": [
        "3. Inspeccione brevemente el repositorio: ¿Cual es el objetivo del proyecto? Explique brevemente la estructura del proyecto, asi como también cada elemento que lo conforma. (0.25 pts)"
      ]
    },
    {
      "cell_type": "markdown",
      "metadata": {
        "cell_id": "082ca01c865e48e28352b280400c47b6",
        "deepnote_cell_type": "markdown",
        "id": "aBHpR8VTftkT"
      },
      "source": [
        "<code>Escriba sus respuestas acá:</code>\n",
        "El objetivo del proyecto es en resumen poder identificar el sonido de difernetes animales (solo tres ), la estructura del proyecto consta principalmente de:\n",
        "\n",
        "main.oy: donde se encuentra el codigo que cumple el obnjetivo planteado anteriormente\n",
        "animales.py: consta de la estructura animal que sirve para registrar nuevos animales en el main\n",
        "readmne: corresponde a una breve explicacion del proyecto y una divertida imagen"
      ]
    },
    {
      "cell_type": "markdown",
      "metadata": {
        "cell_id": "3aab4a3ee0c246e1be955680ad653fb8",
        "deepnote_cell_type": "markdown",
        "id": "XFwqcpLZfylf"
      },
      "source": [
        "4. Identifique los últimos cambios al repositorio, reconociendo las principales ramas de trabajo. ¿Son informativos los `commit` realizados? (0.25 pts)\n",
        "*Hint: Se recomienda usar los argumentos `all`, `graph` y `decorate`*"
      ]
    },
    {
      "cell_type": "markdown",
      "metadata": {
        "cell_id": "0fab79a360ac4c6a9ca0ab884f85c7e1",
        "deepnote_cell_type": "markdown",
        "id": "cmWfXBkOhog0"
      },
      "source": [
        "<code>Escriba sus respuestas acá:</code>\n",
        "para esto aplicamos en la terminal el siguiente comando:\n",
        "\n",
        "git log --all --graph --decorate --\n",
        "\n",
        "obtenemos con esto:\n",
        "\n",
        "Se separa el proyecto en modulos\n",
        "from animales import animales\n",
        "\n",
        "se agrega funcion...\n",
        "\n",
        "primer commit\n",
        "if __name__ == '__main__':\n",
        "    print(\"Ingrese el animalito para saber que dice:\")\n",
        "    animal = input()\n",
        "\n",
        "\n",
        "Se separa el proyecto en modulos\n",
        "    animales(animal)\n",
        "\n",
        "\n",
        "Notamos que no son muy informativos los commit ya que no se esta explicando lo que se hizo en cada uno de ellos."
      ]
    },
    {
      "cell_type": "markdown",
      "metadata": {
        "cell_id": "d07b24d21f2343fb9a7e6a5db74e98c3",
        "deepnote_cell_type": "markdown",
        "id": "Vqbj9HdXrUnN"
      },
      "source": [
        "5. Uno de los académicos se da cuenta que la rama principal de trabajo no se ejecuta correctamente para todos los argumentos. Señale y explique el error en el código e identifique a la persona que lo cometió usando `git blame` (0.25 pts)\n",
        "\n",
        "*Hint: Le puede ser útil esta [documentación](https://www.atlassian.com/es/git/tutorials/inspecting-a-repository/git-blame).*"
      ]
    },
    {
      "cell_type": "markdown",
      "metadata": {
        "cell_id": "bc5b0f9c639643108f8e66687b721732",
        "deepnote_cell_type": "markdown",
        "id": "5ajhV2Iar3tV"
      },
      "source": [
        "<code>Escriba sus respuestas acá:</code>\n",
        "\n",
        "el error ocurre en from animales import animales y  animales(animal) , ya que el nombre del archivo es el imsmo que la funcion, ambos errores fueron hechos por Mezosky."
      ]
    },
    {
      "cell_type": "markdown",
      "metadata": {
        "cell_id": "f3f4e78e6d9145ebbb120c0a2e4aade6",
        "deepnote_cell_type": "markdown",
        "id": "m8J3uE7MhqTA"
      },
      "source": [
        "6. Busque los siguientes `commit`:\n",
        "\n",
        "- `c8b1a62d7299552b0654f930d695b33109214111`\n",
        "- `362fe21ee44f53ee944cee4ba484600308f83d78`\n",
        "- `25543a3baf77292baf849726784ca005473acab1`\n",
        "\n",
        "¿Qué diferencias existen entre cada uno? (0.25 pts)\n",
        "\n",
        "ejecturamos: \n",
        "\n",
        "git show c8b1a62d7299552b0654f930d695b33109214111\n",
        "git show 362fe21ee44f53ee944cee4ba484600308f83d78\n",
        "git show 25543a3baf77292baf849726784ca005473acab1\n",
        "\n",
        "\n",
        "La diferencia de estos es d"
      ]
    },
    {
      "cell_type": "markdown",
      "metadata": {
        "cell_id": "696ed361ac0c41c8a214cfad9dcb39e6",
        "deepnote_cell_type": "markdown",
        "id": "sNHnZsgIitGh"
      },
      "source": [
        "<code>Escriba sus respuestas acá:</code>"
      ]
    },
    {
      "cell_type": "markdown",
      "metadata": {
        "cell_id": "b4e18f8ce94c430f85915c4e2732d05b",
        "deepnote_cell_type": "markdown",
        "id": "WQIPbfNCgpxC"
      },
      "source": [
        "7. Realice una `merge` de la rama `fix-ifs` con la rama `main` y describa lo que ocurre. ¿Qué parte del código podría estar ocasionando esto? (0.25 pts)"
      ]
    },
    {
      "cell_type": "markdown",
      "metadata": {
        "cell_id": "36da6a0d4f4a427bbccac09e2ae965fd",
        "deepnote_cell_type": "markdown",
        "id": "ypH_6lL5ioZz"
      },
      "source": [
        "\n",
        "<code>Escriba sus respuestas acá:</code>\n",
        "para esto ejecutamos: \n",
        "\n",
        "git merge fix-ifs"
      ]
    },
    {
      "cell_type": "markdown",
      "metadata": {
        "cell_id": "09787ab449c543479e5cc54c2a3b6c19",
        "deepnote_cell_type": "markdown",
        "id": "GYfODCjeivkU"
      },
      "source": [
        "8. Cree una rama nueva y proponga una solución al problema anterior, adjuntando el código corregido y señalando las líneas modificadas. (0.25 pts)"
      ]
    },
    {
      "cell_type": "markdown",
      "metadata": {
        "cell_id": "6d963fba3f2d4c17a4b281c7d3f4fb8b",
        "deepnote_cell_type": "markdown",
        "id": "8heBxDU9iziT"
      },
      "source": [
        "<code>Escriba sus respuestas acá:</code>\n",
        "\n",
        "Creamos una nueva rama, el codigo seria:\n",
        "\n",
        "git checkout main  , para asegurarnos de main\n",
        "git pull origin main\n",
        "git checkout -b fix-conflict\n"
      ]
    },
    {
      "cell_type": "markdown",
      "metadata": {
        "cell_id": "8a47d4bf8b3045d68e4f29bb449c87f1",
        "deepnote_cell_type": "markdown",
        "id": "Av8ebB9jkALO"
      },
      "source": [
        "## Fin"
      ]
    },
    {
      "cell_type": "markdown",
      "metadata": {
        "cell_id": "cec4b53942ed489f8f8b63d0e9d4f3e5",
        "deepnote_cell_type": "markdown",
        "id": "aQqZT9fSkBK8"
      },
      "source": [
        "Eso ha sido todo por ahora!! Esperamos que este laboratorio les haya gustado y servido para trabajar con `Git`. Recuerden los dias de plazo que tienen disponibles y que ante cualquier duda no duden en contactar al equipo docente.\n",
        "\n",
        "Nos vemos!!\n",
        "\n",
        "<p align=\"center\">\n",
        "  <img src=\"https://media.tenor.com/OYLdav9k9LkAAAAd/kitty-cat.gif\" width=\"350\">\n",
        "</p>\n"
      ]
    }
  ],
  "metadata": {
    "colab": {
      "provenance": []
    },
    "deepnote_execution_queue": [],
    "deepnote_notebook_id": "62cd20d52b9a4810ada15644630456dc",
    "language_info": {
      "name": "python"
    }
  },
  "nbformat": 4,
  "nbformat_minor": 0
}
