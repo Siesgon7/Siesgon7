{
  "cells": [
    {
      "cell_type": "markdown",
      "metadata": {
        "id": "_Tgm8mCA9Dp3"
      },
      "source": [
        "# Laboratorio 7: Clasificación 🤗\n",
        "\n",
        "<center><strong>MDS7202: Laboratorio de Programación Científica para Ciencia de Datos - Primavera 2024</strong></center>\n"
      ]
    },
    {
      "cell_type": "markdown",
      "metadata": {
        "id": "11Kc_ibM9GXH"
      },
      "source": [
        "### Cuerpo Docente:\n",
        "\n",
        "- Profesores: Ignacio Meza, Sebastián Tinoco\n",
        "- Auxiliar: Eduardo Moya\n",
        "- Ayudantes: Nicolás Ojeda, Melanie Peña, Valentina Rojas"
      ]
    },
    {
      "cell_type": "markdown",
      "metadata": {
        "id": "u9dUSltr9JrN"
      },
      "source": [
        "### Equipo: SUPER IMPORTANTE - notebooks sin nombre no serán revisados\n",
        "\n",
        "- Nombre de alumno 1: Sivert Escaff \n",
        "- Nombre de alumno 2: Rodrigo Montecino "
      ]
    },
    {
      "cell_type": "markdown",
      "metadata": {},
      "source": [
        "### **Link de repositorio de GitHub:** [Insertar Repositorio](https://github.com/...../)"
      ]
    },
    {
      "cell_type": "markdown",
      "metadata": {
        "id": "YBa48PDF9OHw"
      },
      "source": [
        "### Temas a tratar\n",
        "- Clasificación en problemas desbalanceados\n",
        "- Lightgbm y xgboost\n",
        "- Pipelines"
      ]
    },
    {
      "cell_type": "markdown",
      "metadata": {
        "id": "mkhnnMx49Qrh"
      },
      "source": [
        "### Reglas:\n",
        "\n",
        "- **Grupos de 2 personas**\n",
        "- Cualquier duda fuera del horario de clases al foro. Mensajes al equipo docente serán respondidos por este medio.\n",
        "- Prohibidas las copias.\n",
        "- Pueden usar cualquer matrial del curso que estimen conveniente.\n",
        "- Código que no se pueda ejecutar, no será revisado."
      ]
    },
    {
      "cell_type": "markdown",
      "metadata": {
        "id": "sxzJ48Vv8quO"
      },
      "source": [
        "\n",
        "\n",
        "### Objetivos principales del laboratorio\n",
        "- Comprender cómo trabajar con problemas de clasificación con clases desbalanceadas.\n",
        "- Aplicar los modelos lightgbm y xgboost.\n",
        "- Practicar Pipelines"
      ]
    },
    {
      "cell_type": "markdown",
      "metadata": {
        "id": "k-ao0mOU64Ru"
      },
      "source": [
        "# Parte Teórica [12 puntos]\n",
        "\n",
        "\n"
      ]
    },
    {
      "cell_type": "markdown",
      "metadata": {
        "id": "ApXKwPDmxcEV"
      },
      "source": [
        "1. Explique cuál es la diferencia entre los datos de entrenamiento y validación. [1 punto]\n",
        "\n",
        "2. Explique cuál es el principal desafío al trabajar problemas de clasificación con data no supervisada. [1 punto]\n",
        "\n",
        "3. Explique en **sus palabras** qué es la matriz de confusión y para qué se utiliza. [1 puntos]\n",
        "\n",
        "4. Escriba la fórmula de las siguientes métricas y explique con **sus palabras** cómo se interpretan. [1 punto cada uno]\n",
        "\n",
        "  * Accuracy\n",
        "  * Precision\n",
        "  * Recall\n",
        "  * F1 score\n",
        "\n",
        "5. Explique qué métrica recomendaría para los siguientes contextos de clasificación. [1 punto cada uno]\n",
        "\n",
        "  * Mantenimiento predictivo de fallas de maquinaria pesada en la industria minera.  \n",
        "  * Detección de enfermedades altamente contagiosas.\n",
        "  * Aprobación de créditos de alto riesgo.\n",
        "  * Detección de crímenes.\n",
        "\n",
        "6. Explique qué es la calibración de modelos y para qué se usa. [1 punto]\n"
      ]
    },
    {
      "cell_type": "markdown",
      "metadata": {
        "id": "Yy4QMWD8-FPk"
      },
      "source": [
        "**Respuesta:**"
      ]
    },
    {
      "cell_type": "markdown",
      "metadata": {
        "id": "QYFdD1aK-ICa"
      },
      "source": [
        "*1 - Los datos de entrenamiento son los que se usan para que el modelo aprenda de ellos, es decir, le damos toda esa información para que se ajuste a los parámetros de funcionamiento, mientras que, los de validacion(test) son los que se utilizan para evaluar el rendimiento (aprendizaje) del mismo modelo con los datos.\n",
        "2 - Es difícil poder evaluar que tan bueno es el modelo, es decir, posee dificultados dado que los datos suelen no estar etiquetados.\n",
        "3 - Es una forma más visual de ver el rendimiento del modelo, en donde se agrupan los VP, VN, FN y FP, de esto es posible derivar las distintas métricas conocidas como Accuracy, Precisión, Recall y F1-score.\n",
        "4 - \n",
        "- El Accuracy te da la proporción de predicciones correctas de todo el conjunto de predicciones\n",
        "\n",
        "\n",
        "$\\text{Accuracy} = \\frac{VP + VN}{VP + VN + FP + FN}$\n",
        "\n",
        "- La precision solamente te expresa la proporcion de predicciones totales positivas dieron del total, es decir, VP sobre FP con la suma de VP.\n",
        "\n",
        "\n",
        "$\\text{Precision} = \\frac{VP}{VP + FP}$\n",
        "\n",
        "- Recall se preocupa en considerar siempre el porcentaje de predicciones positivas, busca la proporción de verdaderos positivos que fueron predichos.\n",
        "\n",
        "$\\text{Recall} = \\frac{VP}{VP + FN}$\n",
        "\n",
        "- F1-score es una medida que toma la precisión y el recall y saca su media, se utiliza en los contextos cuando las clases a clasificar están muy desbalanceadas.\n",
        "\n",
        "$F1 = 2 \\cdot \\frac{\\text{Precision} \\cdot \\text{Recall}}{\\text{Precision} + \\text{Recall}}$\n",
        "\n",
        "\n",
        "5 -\n",
        "- Es importante no fallar y darle todo ese rango, por tanto utilizaría Recall\n",
        "- Igual que la anterior, no se puede fallar, así que también usaría Recall, aunque f1 tambien seria una buena opcion ya que es bueno buscar no implementar recursos en personas que no tienen la enfermedad.\n",
        "- Lo mas optimo se cree que seria el uso de la curva ROC y AUC, ya que la ventaja de usar AUC-ROC es que considera todos los posibles umbrales de decision, lo que ayuda a encontrar el equilibrio optimo para minimizar errores en la aprobación de creditos.\n",
        "- Utilizaría Recall, pero igual sería importante mantener una raya, dado que, si por ejemplo se refiere a una bomba en un lugar público sería mucho alboroto si no lo hay realmente, por lo que buscaría un mejor punto, es decir, f1-score sería bien aplicado en este contexto.\n",
        "\n",
        "6 - \n",
        "Con la calibracion de modelos nos aseguramos que las probabilidades que predice un modelo sean realmente confiables. Por ejemplo, si un modelo predice que algo tiene un 70% de probabilidad de ocurrir, tras calibrarlo, debería ocurrir cerca de 70 veces de cada 100. Esto nos ayuda a tomar decisiones más seguras basadas en estas predicciones.\n"
      ]
    },
    {
      "cell_type": "code",
      "execution_count": 2,
      "metadata": {},
      "outputs": [],
      "source": [
        "# Libreria Core del lab.\n",
        "import numpy as np\n",
        "import pandas as pd\n",
        "from sklearn.pipeline import Pipeline\n",
        "from sklearn.compose import ColumnTransformer\n",
        "from sklearn.model_selection import train_test_split \n",
        "\n",
        "# Pre-procesamiento\n",
        "from sklearn.preprocessing import MinMaxScaler\n",
        "from sklearn.preprocessing import StandardScaler\n",
        "from sklearn.preprocessing import FunctionTransformer\n",
        "from sklearn.preprocessing import PowerTransformer\n",
        "from sklearn.preprocessing import OneHotEncoder\n",
        "from sklearn.tree import DecisionTreeClassifier\n",
        "\n",
        "# Metricas de evaluación\n",
        "from sklearn.metrics import classification_report\n",
        "from sklearn.metrics import accuracy_score\n",
        "from sklearn.metrics import f1_score\n",
        "from sklearn.metrics import cohen_kappa_score\n",
        "\n",
        "#Libreria para plotear\n",
        "#!pip install --upgrade plotly\n",
        "import plotly.express as px\n",
        "from plotly.subplots import make_subplots\n",
        "import plotly.graph_objects as go\n",
        "\n",
        "# UMAP\n",
        "#!pip install umap-learn"
      ]
    },
    {
      "cell_type": "markdown",
      "metadata": {
        "id": "Jg_9jBqtgRDO"
      },
      "source": [
        "# Parte práctica [48 puntos]"
      ]
    },
    {
      "cell_type": "markdown",
      "metadata": {
        "id": "slm6yRfdfZwS"
      },
      "source": [
        "<p align=\"center\">\n",
        "  <img src=\"https://i.ibb.co/61L8z0w/renacin-by-volframio-dcirf4l-fullview.jpg\"\n",
        "\" width=\"400\">\n",
        "</p>\n",
        "\n",
        "\n",
        "\n",
        "Tras el trágico despido de la mítica mascota de Maipú, Renacín decide adentrarse como consultor en el mercado futbolero, el cuál (para variar...) está cargado en especulaciones.\n",
        "\n",
        "Como su principal tarea será asesorar a los directivos de los clubes sobre cuál jugador comprar y cuál no, Renacín desea generar modelos predictivos que evaluén distintas características de los jugadores; todo con el fin de tomar decisiones concretas basadas en los datos.\n",
        "\n",
        "Sin embargo, su condición de corporeo le impidió tomar la versión anterior de MDS7202, por lo que este motivo Renacín contrata a su equipo para lograr su objetivo final. Dado que aún tiene fuertes vínculos con la dirección de deportes de la municipalidad, el corporeo le entrega base de datos con las estadísticas de cada jugador para que su equipo empieze a trabajar ya con un dataset listo para ser usado.\n"
      ]
    },
    {
      "cell_type": "markdown",
      "metadata": {
        "id": "jnbx7RwHfkue"
      },
      "source": [
        "**Los Datos**\n",
        "\n",
        "Para este laboratorio deberán trabajar con el csv `statsplayers.csv`, donde deberán aplicar algoritmos de aprendizaje supervisado de clasificación en base a características que describen de jugadores de fútbol.\n",
        "\n",
        "Para comenzar cargue el dataset señalado y a continuación vea el reporte **`Player_Stats_Report.html`** (adjunto en la carpeta del enunciado) que describe las características principales del `DataFrame`."
      ]
    },
    {
      "cell_type": "code",
      "execution_count": 2,
      "metadata": {
        "id": "mX6iwOWUfrp_"
      },
      "outputs": [
        {
          "name": "stdout",
          "output_type": "stream",
          "text": [
            "Ignorando conexión drive-colab\n"
          ]
        }
      ],
      "source": [
        "# Si usted está utilizando Colabolatory le puede ser útil este código para cargar los archivos.\n",
        "try:\n",
        "    from google.colab import drive\n",
        "    drive.mount(\"/content/drive\")\n",
        "    path = 'Dirección donde tiene los archivos en el Drive'\n",
        "except:\n",
        "    print('Ignorando conexión drive-colab')"
      ]
    },
    {
      "cell_type": "code",
      "execution_count": 3,
      "metadata": {},
      "outputs": [
        {
          "data": {
            "text/html": [
              "<div>\n",
              "<style scoped>\n",
              "    .dataframe tbody tr th:only-of-type {\n",
              "        vertical-align: middle;\n",
              "    }\n",
              "\n",
              "    .dataframe tbody tr th {\n",
              "        vertical-align: top;\n",
              "    }\n",
              "\n",
              "    .dataframe thead th {\n",
              "        text-align: right;\n",
              "    }\n",
              "</style>\n",
              "<table border=\"1\" class=\"dataframe\">\n",
              "  <thead>\n",
              "    <tr style=\"text-align: right;\">\n",
              "      <th></th>\n",
              "      <th>Name</th>\n",
              "      <th>Nationality</th>\n",
              "      <th>National_Position</th>\n",
              "      <th>Club_Position</th>\n",
              "      <th>Height</th>\n",
              "      <th>Weight</th>\n",
              "      <th>Preffered_Foot</th>\n",
              "      <th>Age</th>\n",
              "      <th>Work_Rate</th>\n",
              "      <th>Weak_foot</th>\n",
              "      <th>...</th>\n",
              "      <th>Agility</th>\n",
              "      <th>Jumping</th>\n",
              "      <th>Heading</th>\n",
              "      <th>Shot_Power</th>\n",
              "      <th>Finishing</th>\n",
              "      <th>Long_Shots</th>\n",
              "      <th>Curve</th>\n",
              "      <th>Freekick_Accuracy</th>\n",
              "      <th>Penalties</th>\n",
              "      <th>Volleys</th>\n",
              "    </tr>\n",
              "  </thead>\n",
              "  <tbody>\n",
              "    <tr>\n",
              "      <th>0</th>\n",
              "      <td>Cristiano Ronaldo</td>\n",
              "      <td>Portugal</td>\n",
              "      <td>LS</td>\n",
              "      <td>LW</td>\n",
              "      <td>185</td>\n",
              "      <td>80</td>\n",
              "      <td>Right</td>\n",
              "      <td>32</td>\n",
              "      <td>High / Low</td>\n",
              "      <td>4</td>\n",
              "      <td>...</td>\n",
              "      <td>90</td>\n",
              "      <td>95</td>\n",
              "      <td>85</td>\n",
              "      <td>92</td>\n",
              "      <td>93</td>\n",
              "      <td>90</td>\n",
              "      <td>81</td>\n",
              "      <td>76</td>\n",
              "      <td>85</td>\n",
              "      <td>88</td>\n",
              "    </tr>\n",
              "    <tr>\n",
              "      <th>1</th>\n",
              "      <td>Lionel Messi</td>\n",
              "      <td>Argentina</td>\n",
              "      <td>RW</td>\n",
              "      <td>RW</td>\n",
              "      <td>170</td>\n",
              "      <td>72</td>\n",
              "      <td>Left</td>\n",
              "      <td>29</td>\n",
              "      <td>Medium / Medium</td>\n",
              "      <td>4</td>\n",
              "      <td>...</td>\n",
              "      <td>90</td>\n",
              "      <td>68</td>\n",
              "      <td>71</td>\n",
              "      <td>85</td>\n",
              "      <td>95</td>\n",
              "      <td>88</td>\n",
              "      <td>89</td>\n",
              "      <td>90</td>\n",
              "      <td>74</td>\n",
              "      <td>85</td>\n",
              "    </tr>\n",
              "    <tr>\n",
              "      <th>2</th>\n",
              "      <td>Neymar</td>\n",
              "      <td>Brazil</td>\n",
              "      <td>LW</td>\n",
              "      <td>LW</td>\n",
              "      <td>174</td>\n",
              "      <td>68</td>\n",
              "      <td>Right</td>\n",
              "      <td>25</td>\n",
              "      <td>High / Medium</td>\n",
              "      <td>5</td>\n",
              "      <td>...</td>\n",
              "      <td>96</td>\n",
              "      <td>61</td>\n",
              "      <td>62</td>\n",
              "      <td>78</td>\n",
              "      <td>89</td>\n",
              "      <td>77</td>\n",
              "      <td>79</td>\n",
              "      <td>84</td>\n",
              "      <td>81</td>\n",
              "      <td>83</td>\n",
              "    </tr>\n",
              "    <tr>\n",
              "      <th>3</th>\n",
              "      <td>Luis Suárez</td>\n",
              "      <td>Uruguay</td>\n",
              "      <td>LS</td>\n",
              "      <td>ST</td>\n",
              "      <td>182</td>\n",
              "      <td>85</td>\n",
              "      <td>Right</td>\n",
              "      <td>30</td>\n",
              "      <td>High / Medium</td>\n",
              "      <td>4</td>\n",
              "      <td>...</td>\n",
              "      <td>86</td>\n",
              "      <td>69</td>\n",
              "      <td>77</td>\n",
              "      <td>87</td>\n",
              "      <td>94</td>\n",
              "      <td>86</td>\n",
              "      <td>86</td>\n",
              "      <td>84</td>\n",
              "      <td>85</td>\n",
              "      <td>88</td>\n",
              "    </tr>\n",
              "    <tr>\n",
              "      <th>4</th>\n",
              "      <td>Manuel Neuer</td>\n",
              "      <td>Germany</td>\n",
              "      <td>GK</td>\n",
              "      <td>GK</td>\n",
              "      <td>193</td>\n",
              "      <td>92</td>\n",
              "      <td>Right</td>\n",
              "      <td>31</td>\n",
              "      <td>Medium / Medium</td>\n",
              "      <td>4</td>\n",
              "      <td>...</td>\n",
              "      <td>52</td>\n",
              "      <td>78</td>\n",
              "      <td>25</td>\n",
              "      <td>25</td>\n",
              "      <td>13</td>\n",
              "      <td>16</td>\n",
              "      <td>14</td>\n",
              "      <td>11</td>\n",
              "      <td>47</td>\n",
              "      <td>11</td>\n",
              "    </tr>\n",
              "  </tbody>\n",
              "</table>\n",
              "<p>5 rows × 39 columns</p>\n",
              "</div>"
            ],
            "text/plain": [
              "                Name Nationality National_Position Club_Position  Height  \\\n",
              "0  Cristiano Ronaldo    Portugal                LS            LW     185   \n",
              "1       Lionel Messi   Argentina                RW            RW     170   \n",
              "2             Neymar      Brazil                LW            LW     174   \n",
              "3        Luis Suárez     Uruguay                LS            ST     182   \n",
              "4       Manuel Neuer     Germany                GK            GK     193   \n",
              "\n",
              "   Weight Preffered_Foot  Age        Work_Rate  Weak_foot  ...  Agility  \\\n",
              "0      80          Right   32       High / Low          4  ...       90   \n",
              "1      72           Left   29  Medium / Medium          4  ...       90   \n",
              "2      68          Right   25    High / Medium          5  ...       96   \n",
              "3      85          Right   30    High / Medium          4  ...       86   \n",
              "4      92          Right   31  Medium / Medium          4  ...       52   \n",
              "\n",
              "   Jumping  Heading  Shot_Power  Finishing  Long_Shots  Curve  \\\n",
              "0       95       85          92         93          90     81   \n",
              "1       68       71          85         95          88     89   \n",
              "2       61       62          78         89          77     79   \n",
              "3       69       77          87         94          86     86   \n",
              "4       78       25          25         13          16     14   \n",
              "\n",
              "   Freekick_Accuracy  Penalties  Volleys  \n",
              "0                 76         85       88  \n",
              "1                 90         74       85  \n",
              "2                 84         81       83  \n",
              "3                 84         85       88  \n",
              "4                 11         47       11  \n",
              "\n",
              "[5 rows x 39 columns]"
            ]
          },
          "execution_count": 3,
          "metadata": {},
          "output_type": "execute_result"
        }
      ],
      "source": [
        "df_players = pd.read_csv('stats_players.csv')\n",
        "df_players.head()"
      ]
    },
    {
      "cell_type": "markdown",
      "metadata": {
        "id": "JdcucZhp-M_0"
      },
      "source": [
        "## 1. Predicción de Seleccionados Nacionales [14 puntos]"
      ]
    },
    {
      "cell_type": "markdown",
      "metadata": {
        "id": "HXrewqxjjzvA"
      },
      "source": [
        "<p align=\"center\">\n",
        "  <img src=\"https://www.futuro.cl/wp-content/uploads/2016/06/chile-argentina-meme-12.jpg\" width=\"300\">\n",
        "</p>\n",
        "\n"
      ]
    },
    {
      "cell_type": "markdown",
      "metadata": {
        "id": "Qfre1YsSDqla"
      },
      "source": [
        "### 1.1 Preprocesamiento [5 puntos]"
      ]
    },
    {
      "cell_type": "markdown",
      "metadata": {
        "id": "IR00u4HTDtxv"
      },
      "source": [
        "Tareas:\n",
        "\n",
        "1. Genere los labels para la clasificación binaria en una variable llamada `label`. Para esto, trabaje sobre el atributo `National_Position` suponiendo que los valores nulos son jugadores no seleccionados para representar a su país. [Sin puntaje]\n",
        "\n",
        "2. Hecho esto, ¿cuántos se tienen ejemplos por cada clase? Comente lo que observa. [1 punto]\n",
        "\n",
        "3. Genere un `ColumnTransformer` en donde especifique las transformaciones que hay que realizar para cada columna (por ejemplo StandarScaler, MinMaxScaler, OneHotEncoder, etc...) para que puedan ser utilizadas correctamente por el modelo predictivo y guárdelo una variable llamada `col_transformer`. [2 puntos]\n",
        "\n",
        "4. Comente y justifique las transformaciones elegidas sobre cada una de las variables (para esto utilice el material `Player_Stats_Report.html` que viene en el zip del lab), al igual que las transformaciones aplicadas. [2 puntos]"
      ]
    },
    {
      "cell_type": "markdown",
      "metadata": {
        "id": "tgAk0kbPjEsx"
      },
      "source": [
        "**Respuesta:**"
      ]
    },
    {
      "cell_type": "code",
      "execution_count": 4,
      "metadata": {
        "id": "JhC2sZj9dSI1"
      },
      "outputs": [
        {
          "name": "stdout",
          "output_type": "stream",
          "text": [
            "Cantidad de seleccionados: 1075, no seleccionados: 16513\n"
          ]
        }
      ],
      "source": [
        "df_players[\"Seleccionado\"] = (~df_players[\"National_Position\"].isna()).astype('int')\n",
        "print(f'Cantidad de seleccionados: {df_players.Seleccionado.sum()}, no seleccionados: {len(df_players.Seleccionado)-df_players.Seleccionado.sum()}')"
      ]
    },
    {
      "cell_type": "code",
      "execution_count": 5,
      "metadata": {},
      "outputs": [
        {
          "data": {
            "text/plain": [
              "Index(['Name', 'Nationality', 'National_Position', 'Club_Position', 'Height',\n",
              "       'Weight', 'Preffered_Foot', 'Age', 'Work_Rate', 'Weak_foot',\n",
              "       'Skill_Moves', 'Ball_Control', 'Dribbling', 'Marking', 'Sliding_Tackle',\n",
              "       'Standing_Tackle', 'Aggression', 'Reactions', 'Interceptions', 'Vision',\n",
              "       'Composure', 'Crossing', 'Short_Pass', 'Long_Pass', 'Acceleration',\n",
              "       'Speed', 'Stamina', 'Strength', 'Balance', 'Agility', 'Jumping',\n",
              "       'Heading', 'Shot_Power', 'Finishing', 'Long_Shots', 'Curve',\n",
              "       'Freekick_Accuracy', 'Penalties', 'Volleys', 'Seleccionado'],\n",
              "      dtype='object')"
            ]
          },
          "execution_count": 5,
          "metadata": {},
          "output_type": "execute_result"
        }
      ],
      "source": [
        "df_players.columns"
      ]
    },
    {
      "cell_type": "markdown",
      "metadata": {},
      "source": [
        "Las justificaciones del preprocesamiento a utilizar sobre cada columna son:\n",
        "Se eliminaran las columnas de:\n",
        "- Name: dado que el nombre no debería tener influencia en si es seleccionado o no.\n",
        "- Nationality: dado para las selecciones se deberían considerar jugadores con solo una nacionalidad.\n",
        "- National_Position: dado que fue utilizado para crear el label.\n",
        "\n",
        "Se hará un OneHotEncoding a las columnas de:\n",
        "- Club_position: dado que para las distintas posiciones son distintos stats los que importan, lo cual debe tomar en consideración el modelo.\n",
        "- Preffered_Foot: dado que es importante saber que pie utiliza para patiar y relacionarlo con la posición.\n",
        "- Work_Rate: dado que es importante poseer el ratio de trabajo que tiene. Se podría pasar a ordinal pero esta complejo dado que considera la relación de 2 ratios.\n",
        "\n",
        "Se hara una estandarización sobre las siguientes columnas dado a que siguen una distribución ajustable a una normal:\n",
        "- Height\n",
        "- Weight\n",
        "- Age\n",
        "- Ball_Control\n",
        "- Dribbling\n",
        "- Marking \n",
        "- Sliding_Tackle\n",
        "- Standing_Tackle\n",
        "- Aggression\n",
        "- Reactions\n",
        "- Interceptions\n",
        "- Vision\n",
        "- Composure\n",
        "- Crossing\n",
        "- Short_Pass\n",
        "- Long_Pass\n",
        "- Acceleration\n",
        "- Speed\n",
        "- Stamina\n",
        "- Strength\n",
        "- Balance\n",
        "- Agility\n",
        "- Jumping\n",
        "- Heading\n",
        "- Shot_Power\n",
        "- Finishing\n",
        "- Long_Shots\n",
        "- Curve\n",
        "- Freekick_Accuracy\n",
        "- Penalties\n",
        "- Volleys'\n",
        "\n",
        "Se hara una escalamiento de mínimo y máximo sobre las siguientes columnas dado que poseen sus límites bien definidos:\n",
        "- Weak_foot\n",
        "- Skill_Moves"
      ]
    },
    {
      "cell_type": "code",
      "execution_count": 6,
      "metadata": {},
      "outputs": [],
      "source": [
        "preprocess_data = ColumnTransformer(\n",
        "    transformers=[\n",
        "        ('OneHotEncoder', OneHotEncoder(handle_unknown='ignore'),  ['Club_Position', 'Preffered_Foot', 'Work_Rate']),\n",
        "        ('StandardScaler', StandardScaler(),\n",
        "         ['Height', 'Weight', 'Age', \n",
        "          'Ball_Control', 'Dribbling',\n",
        "          'Marking', 'Sliding_Tackle', 'Standing_Tackle',\n",
        "          'Aggression', 'Reactions', 'Interceptions', 'Vision',\n",
        "          'Composure', 'Crossing', 'Short_Pass', 'Long_Pass', 'Acceleration',\n",
        "          'Speed', 'Stamina', 'Strength', 'Balance', 'Agility', 'Jumping',\n",
        "          'Heading', 'Shot_Power', 'Finishing', 'Long_Shots', 'Curve',\n",
        "          'Freekick_Accuracy', 'Penalties', 'Volleys']), \n",
        "        ('MinMaxScaler', MinMaxScaler(), ['Weak_foot', 'Skill_Moves'])])\n"
      ]
    },
    {
      "cell_type": "markdown",
      "metadata": {
        "id": "Bv1HOfcNEPF4"
      },
      "source": [
        "### 1.2 Entrenamiento [3 puntos]"
      ]
    },
    {
      "cell_type": "markdown",
      "metadata": {
        "id": "whPkuXTUBvB0"
      },
      "source": [
        "Ahora, vamos a entrenar los pipelines generados en los pasos anteriores. Para esto, debe realizar las siguientes tareas:\n",
        "\n",
        "1. Separe los datos de entrenamiento en un conjunto de entrenamiento y de prueba  (la proporción queda a su juicio). En este paso, seleccione los ejemplos de forma aleatoria e intente mantener la distribución original de labels de cada clase en los conjuntos de prueba/entrenamiento. (vea la documentación de `train_test_split`). [1 puntos]\n",
        "\n",
        "\n",
        "2. Defina un pipeline llamado `pipeline_xgboost` y otro llamado `pipeline_lightgbm`. Estos pipelines deben tener el mismo ColumnTransformer definido en la sección de preprocesamiento, pero deben variar los clasificadores de acuerdo al nombre de cada pipeline. [1 puntos]\n",
        "\n",
        "3. Entrene los pipelines. [1 punto]\n",
        "\n"
      ]
    },
    {
      "cell_type": "markdown",
      "metadata": {
        "id": "kbadONFtjGnE"
      },
      "source": [
        "**Respuesta:**"
      ]
    },
    {
      "cell_type": "code",
      "execution_count": 6,
      "metadata": {},
      "outputs": [
        {
          "name": "stdout",
          "output_type": "stream",
          "text": [
            "Collecting xgboost\n",
            "  Downloading xgboost-2.1.1-py3-none-win_amd64.whl.metadata (2.1 kB)\n",
            "Collecting lightgbm\n",
            "  Downloading lightgbm-4.5.0-py3-none-win_amd64.whl.metadata (17 kB)\n",
            "Requirement already satisfied: numpy in c:\\users\\rodri\\anaconda3\\envs\\data\\lib\\site-packages (from xgboost) (1.26.4)\n",
            "Requirement already satisfied: scipy in c:\\users\\rodri\\anaconda3\\envs\\data\\lib\\site-packages (from xgboost) (1.12.0)\n",
            "Downloading xgboost-2.1.1-py3-none-win_amd64.whl (124.9 MB)\n",
            "   ---------------------------------------- 0.0/124.9 MB ? eta -:--:--\n",
            "   ---------------------------------------- 0.0/124.9 MB ? eta -:--:--\n",
            "   ---------------------------------------- 0.0/124.9 MB ? eta -:--:--\n",
            "   ---------------------------------------- 0.0/124.9 MB ? eta -:--:--\n",
            "   ---------------------------------------- 0.0/124.9 MB ? eta -:--:--\n",
            "   ---------------------------------------- 0.1/124.9 MB 558.5 kB/s eta 0:03:44\n",
            "   ---------------------------------------- 0.4/124.9 MB 2.3 MB/s eta 0:00:54\n",
            "   ---------------------------------------- 1.2/124.9 MB 6.1 MB/s eta 0:00:21\n",
            "    --------------------------------------- 2.0/124.9 MB 8.0 MB/s eta 0:00:16\n",
            "    --------------------------------------- 2.9/124.9 MB 9.9 MB/s eta 0:00:13\n",
            "   - -------------------------------------- 4.0/124.9 MB 11.5 MB/s eta 0:00:11\n",
            "   - -------------------------------------- 5.1/124.9 MB 13.0 MB/s eta 0:00:10\n",
            "   - -------------------------------------- 6.1/124.9 MB 13.9 MB/s eta 0:00:09\n",
            "   -- ------------------------------------- 7.2/124.9 MB 14.9 MB/s eta 0:00:08\n",
            "   -- ------------------------------------- 8.7/124.9 MB 16.3 MB/s eta 0:00:08\n",
            "   --- ------------------------------------ 10.0/124.9 MB 17.2 MB/s eta 0:00:07\n",
            "   --- ------------------------------------ 11.3/124.9 MB 24.3 MB/s eta 0:00:05\n",
            "   ---- ----------------------------------- 12.7/124.9 MB 26.2 MB/s eta 0:00:05\n",
            "   ---- ----------------------------------- 14.1/124.9 MB 27.3 MB/s eta 0:00:05\n",
            "   ---- ----------------------------------- 15.6/124.9 MB 28.5 MB/s eta 0:00:04\n",
            "   ----- ---------------------------------- 17.2/124.9 MB 31.2 MB/s eta 0:00:04\n",
            "   ----- ---------------------------------- 18.6/124.9 MB 31.2 MB/s eta 0:00:04\n",
            "   ------ --------------------------------- 19.6/124.9 MB 29.7 MB/s eta 0:00:04\n",
            "   ------ --------------------------------- 21.2/124.9 MB 29.7 MB/s eta 0:00:04\n",
            "   ------- -------------------------------- 22.4/124.9 MB 29.8 MB/s eta 0:00:04\n",
            "   ------- -------------------------------- 23.9/124.9 MB 29.8 MB/s eta 0:00:04\n",
            "   -------- ------------------------------- 25.3/124.9 MB 29.7 MB/s eta 0:00:04\n",
            "   -------- ------------------------------- 26.9/124.9 MB 29.7 MB/s eta 0:00:04\n",
            "   --------- ------------------------------ 28.3/124.9 MB 31.2 MB/s eta 0:00:04\n",
            "   --------- ------------------------------ 28.3/124.9 MB 31.2 MB/s eta 0:00:04\n",
            "   --------- ------------------------------ 28.3/124.9 MB 31.2 MB/s eta 0:00:04\n",
            "   --------- ------------------------------ 28.3/124.9 MB 31.2 MB/s eta 0:00:04\n",
            "   --------- ------------------------------ 28.3/124.9 MB 20.5 MB/s eta 0:00:05\n",
            "   --------- ------------------------------ 28.3/124.9 MB 20.5 MB/s eta 0:00:05\n",
            "   --------- ------------------------------ 28.4/124.9 MB 16.8 MB/s eta 0:00:06\n",
            "   --------- ------------------------------ 28.7/124.9 MB 15.6 MB/s eta 0:00:07\n",
            "   --------- ------------------------------ 29.2/124.9 MB 14.9 MB/s eta 0:00:07\n",
            "   --------- ------------------------------ 29.3/124.9 MB 14.6 MB/s eta 0:00:07\n",
            "   --------- ------------------------------ 29.4/124.9 MB 14.2 MB/s eta 0:00:07\n",
            "   --------- ------------------------------ 29.4/124.9 MB 14.2 MB/s eta 0:00:07\n",
            "   --------- ------------------------------ 29.4/124.9 MB 14.2 MB/s eta 0:00:07\n",
            "   --------- ------------------------------ 29.4/124.9 MB 14.2 MB/s eta 0:00:07\n",
            "   --------- ------------------------------ 30.7/124.9 MB 11.3 MB/s eta 0:00:09\n",
            "   ---------- ----------------------------- 32.2/124.9 MB 11.3 MB/s eta 0:00:09\n",
            "   ---------- ----------------------------- 33.4/124.9 MB 11.1 MB/s eta 0:00:09\n",
            "   ----------- ---------------------------- 35.0/124.9 MB 11.3 MB/s eta 0:00:08\n",
            "   ----------- ---------------------------- 36.4/124.9 MB 11.3 MB/s eta 0:00:08\n",
            "   ------------ --------------------------- 38.0/124.9 MB 11.3 MB/s eta 0:00:08\n",
            "   ------------ --------------------------- 39.6/124.9 MB 31.2 MB/s eta 0:00:03\n",
            "   ------------- -------------------------- 41.4/124.9 MB 32.8 MB/s eta 0:00:03\n",
            "   ------------- -------------------------- 43.1/124.9 MB 32.8 MB/s eta 0:00:03\n",
            "   -------------- ------------------------- 45.0/124.9 MB 34.4 MB/s eta 0:00:03\n",
            "   -------------- ------------------------- 46.1/124.9 MB 32.7 MB/s eta 0:00:03\n",
            "   --------------- ------------------------ 47.6/124.9 MB 32.7 MB/s eta 0:00:03\n",
            "   --------------- ------------------------ 48.8/124.9 MB 32.7 MB/s eta 0:00:03\n",
            "   ---------------- ----------------------- 50.0/124.9 MB 31.1 MB/s eta 0:00:03\n",
            "   ---------------- ----------------------- 51.9/124.9 MB 31.2 MB/s eta 0:00:03\n",
            "   ----------------- ---------------------- 53.6/124.9 MB 32.8 MB/s eta 0:00:03\n",
            "   ----------------- ---------------------- 55.4/124.9 MB 31.2 MB/s eta 0:00:03\n",
            "   ------------------ --------------------- 56.7/124.9 MB 32.8 MB/s eta 0:00:03\n",
            "   ------------------ --------------------- 58.1/124.9 MB 32.7 MB/s eta 0:00:03\n",
            "   ------------------- -------------------- 59.8/124.9 MB 34.4 MB/s eta 0:00:02\n",
            "   ------------------- -------------------- 61.2/124.9 MB 32.7 MB/s eta 0:00:02\n",
            "   -------------------- ------------------- 62.8/124.9 MB 34.4 MB/s eta 0:00:02\n",
            "   -------------------- ------------------- 64.1/124.9 MB 31.2 MB/s eta 0:00:02\n",
            "   --------------------- ------------------ 66.0/124.9 MB 31.2 MB/s eta 0:00:02\n",
            "   --------------------- ------------------ 67.4/124.9 MB 31.2 MB/s eta 0:00:02\n",
            "   --------------------- ------------------ 68.6/124.9 MB 31.2 MB/s eta 0:00:02\n",
            "   ---------------------- ----------------- 71.1/124.9 MB 34.4 MB/s eta 0:00:02\n",
            "   ----------------------- ---------------- 72.3/124.9 MB 34.4 MB/s eta 0:00:02\n",
            "   ----------------------- ---------------- 72.3/124.9 MB 34.4 MB/s eta 0:00:02\n",
            "   ----------------------- ---------------- 72.3/124.9 MB 34.4 MB/s eta 0:00:02\n",
            "   ----------------------- ---------------- 72.3/124.9 MB 34.4 MB/s eta 0:00:02\n",
            "   ----------------------- ---------------- 72.3/124.9 MB 34.4 MB/s eta 0:00:02\n",
            "   ----------------------- ---------------- 72.3/124.9 MB 34.4 MB/s eta 0:00:02\n",
            "   ----------------------- ---------------- 73.2/124.9 MB 18.2 MB/s eta 0:00:03\n",
            "   ----------------------- ---------------- 74.2/124.9 MB 17.7 MB/s eta 0:00:03\n",
            "   ------------------------ --------------- 75.6/124.9 MB 17.7 MB/s eta 0:00:03\n",
            "   ------------------------ --------------- 77.0/124.9 MB 17.2 MB/s eta 0:00:03\n",
            "   ------------------------ --------------- 77.8/124.9 MB 16.8 MB/s eta 0:00:03\n",
            "   -------------------------- ------------- 81.4/124.9 MB 18.2 MB/s eta 0:00:03\n",
            "   -------------------------- ------------- 82.8/124.9 MB 34.4 MB/s eta 0:00:02\n",
            "   -------------------------- ------------- 83.5/124.9 MB 31.2 MB/s eta 0:00:02\n",
            "   --------------------------- ------------ 85.6/124.9 MB 34.4 MB/s eta 0:00:02\n",
            "   --------------------------- ------------ 85.6/124.9 MB 34.4 MB/s eta 0:00:02\n",
            "   --------------------------- ------------ 85.6/124.9 MB 34.4 MB/s eta 0:00:02\n",
            "   --------------------------- ------------ 85.6/124.9 MB 24.2 MB/s eta 0:00:02\n",
            "   --------------------------- ------------ 86.7/124.9 MB 23.4 MB/s eta 0:00:02\n",
            "   ---------------------------- ----------- 88.4/124.9 MB 24.3 MB/s eta 0:00:02\n",
            "   ----------------------------- ---------- 90.7/124.9 MB 23.4 MB/s eta 0:00:02\n",
            "   ----------------------------- ---------- 92.4/124.9 MB 22.6 MB/s eta 0:00:02\n",
            "   ------------------------------ --------- 94.1/124.9 MB 25.2 MB/s eta 0:00:02\n",
            "   ------------------------------ --------- 95.6/124.9 MB 23.4 MB/s eta 0:00:02\n",
            "   ------------------------------- -------- 97.6/124.9 MB 38.5 MB/s eta 0:00:01\n",
            "   ------------------------------- -------- 99.5/124.9 MB 38.5 MB/s eta 0:00:01\n",
            "   ------------------------------- ------- 101.2/124.9 MB 36.3 MB/s eta 0:00:01\n",
            "   -------------------------------- ------ 102.9/124.9 MB 38.5 MB/s eta 0:00:01\n",
            "   -------------------------------- ------ 104.3/124.9 MB 34.4 MB/s eta 0:00:01\n",
            "   -------------------------------- ------ 105.6/124.9 MB 34.4 MB/s eta 0:00:01\n",
            "   --------------------------------- ----- 107.4/124.9 MB 34.4 MB/s eta 0:00:01\n",
            "   ---------------------------------- ---- 109.2/124.9 MB 34.4 MB/s eta 0:00:01\n",
            "   ---------------------------------- ---- 110.3/124.9 MB 34.4 MB/s eta 0:00:01\n",
            "   ---------------------------------- ---- 112.0/124.9 MB 32.8 MB/s eta 0:00:01\n",
            "   ----------------------------------- --- 112.2/124.9 MB 31.2 MB/s eta 0:00:01\n",
            "   ----------------------------------- --- 113.0/124.9 MB 26.2 MB/s eta 0:00:01\n",
            "   ----------------------------------- --- 114.5/124.9 MB 28.4 MB/s eta 0:00:01\n",
            "   ------------------------------------ -- 115.9/124.9 MB 27.3 MB/s eta 0:00:01\n",
            "   ------------------------------------ -- 117.9/124.9 MB 27.3 MB/s eta 0:00:01\n",
            "   ------------------------------------- - 119.6/124.9 MB 27.3 MB/s eta 0:00:01\n",
            "   ------------------------------------- - 120.4/124.9 MB 26.2 MB/s eta 0:00:01\n",
            "   ------------------------------------- - 121.1/124.9 MB 27.3 MB/s eta 0:00:01\n",
            "   --------------------------------------  123.9/124.9 MB 32.7 MB/s eta 0:00:01\n",
            "   --------------------------------------  124.9/124.9 MB 32.7 MB/s eta 0:00:01\n",
            "   --------------------------------------  124.9/124.9 MB 32.7 MB/s eta 0:00:01\n",
            "   --------------------------------------  124.9/124.9 MB 32.7 MB/s eta 0:00:01\n",
            "   --------------------------------------  124.9/124.9 MB 32.7 MB/s eta 0:00:01\n",
            "   --------------------------------------  124.9/124.9 MB 32.7 MB/s eta 0:00:01\n",
            "   --------------------------------------  124.9/124.9 MB 32.7 MB/s eta 0:00:01\n",
            "   --------------------------------------  124.9/124.9 MB 32.7 MB/s eta 0:00:01\n",
            "   --------------------------------------  124.9/124.9 MB 32.7 MB/s eta 0:00:01\n",
            "   --------------------------------------  124.9/124.9 MB 32.7 MB/s eta 0:00:01\n",
            "   --------------------------------------- 124.9/124.9 MB 14.2 MB/s eta 0:00:00\n",
            "Downloading lightgbm-4.5.0-py3-none-win_amd64.whl (1.4 MB)\n",
            "   ---------------------------------------- 0.0/1.4 MB ? eta -:--:--\n",
            "   ---------------------------------------  1.4/1.4 MB 44.5 MB/s eta 0:00:01\n",
            "   ---------------------------------------- 1.4/1.4 MB 22.8 MB/s eta 0:00:00\n",
            "Installing collected packages: xgboost, lightgbm\n",
            "Successfully installed lightgbm-4.5.0 xgboost-2.1.1\n",
            "Note: you may need to restart the kernel to use updated packages.\n"
          ]
        }
      ],
      "source": [
        "#pip install xgboost lightgbm"
      ]
    },
    {
      "cell_type": "code",
      "execution_count": 7,
      "metadata": {
        "id": "lLtlXGTPdWAV"
      },
      "outputs": [],
      "source": [
        "from sklearn.pipeline import Pipeline\n",
        "from xgboost import XGBClassifier\n",
        "from lightgbm import LGBMClassifier\n",
        "\n",
        "# Pipeline con XGBoost\n",
        "pipeline_xgboost = Pipeline([\n",
        "    ('Preprocessing', preprocess_data), \n",
        "    ('XGBoost', XGBClassifier())\n",
        "])\n",
        "\n",
        "# Pipeline con LightGBM\n",
        "pipeline_lightgbm = Pipeline([\n",
        "    ('Preprocessing', preprocess_data), \n",
        "    ('LightGBM', LGBMClassifier())\n",
        "])\n"
      ]
    },
    {
      "cell_type": "code",
      "execution_count": 8,
      "metadata": {},
      "outputs": [
        {
          "name": "stdout",
          "output_type": "stream",
          "text": [
            "[LightGBM] [Info] Number of positive: 752, number of negative: 11559\n",
            "[LightGBM] [Info] Auto-choosing row-wise multi-threading, the overhead of testing was 0.001295 seconds.\n",
            "You can set `force_row_wise=true` to remove the overhead.\n",
            "And if memory is not enough, you can set `force_col_wise=true`.\n",
            "[LightGBM] [Info] Total Bins 2528\n",
            "[LightGBM] [Info] Number of data points in the train set: 12311, number of used features: 70\n",
            "[LightGBM] [Info] [binary:BoostFromScore]: pavg=0.061084 -> initscore=-2.732483\n",
            "[LightGBM] [Info] Start training from score -2.732483\n"
          ]
        }
      ],
      "source": [
        "### Split train test\n",
        "X_train, X_test, y_train, y_test = train_test_split(df_players.drop(columns = ['Name', 'Nationality', 'National_Position', 'Seleccionado']), \n",
        "                                                    df_players['Seleccionado'],\n",
        "                                                    test_size=0.3, random_state=3,\n",
        "                                                    stratify = df_players['Seleccionado'])\n",
        "\n",
        "### Hacemos fit a los modelos \n",
        "pipeline_xgboost.fit(X_train, y_train)\n",
        "pipeline_lightgbm.fit(X_train, y_train)\n",
        "\n",
        "### Hacemos las predicciones de cada uno de los modelos\n",
        "y_pred_pipeline_xgboost = pipeline_xgboost.predict(X_test)\n",
        "y_pred_pipeline_lightgbm = pipeline_lightgbm.predict(X_test)"
      ]
    },
    {
      "cell_type": "markdown",
      "metadata": {
        "id": "poc9HSNBFeKO"
      },
      "source": [
        "### 1.3 Resultados [6 puntos]"
      ]
    },
    {
      "cell_type": "markdown",
      "metadata": {
        "id": "tGGCj8YtFil1"
      },
      "source": [
        "1. Calcule las métricas accuracy, precisión y recall de la clase positiva (la que indica que un jugador es seleccionado nacional) para evaluar el rendimiento de los distintos modelos. Verifique sus resultados usando `classification_report`. [2 puntos]\n",
        "\n",
        "2. Explique qué implican los valores de accuracy, precisión y recall de la clase positiva (la que indica que un jugador es seleccionado nacional) y cómo influye la cantidad de ejemplos por clase en los resultados obtenidos. [2 puntos]\n",
        "\n",
        "3. Explique qué métrica le parece más adecuada y concluya qué modelo tiene un mejor desempeño. [2 puntos]"
      ]
    },
    {
      "cell_type": "markdown",
      "metadata": {
        "id": "A1hkVFdujJTi"
      },
      "source": [
        "**Respuesta:**"
      ]
    },
    {
      "cell_type": "code",
      "execution_count": 9,
      "metadata": {
        "id": "QNmI_tbbdQte"
      },
      "outputs": [
        {
          "name": "stdout",
          "output_type": "stream",
          "text": [
            "Reporte para el pipeline 1\n",
            "              precision    recall  f1-score   support\n",
            "\n",
            "           0       0.95      0.99      0.97      4954\n",
            "           1       0.48      0.14      0.22       323\n",
            "\n",
            "    accuracy                           0.94      5277\n",
            "   macro avg       0.71      0.57      0.59      5277\n",
            "weighted avg       0.92      0.94      0.92      5277\n",
            "\n",
            "------------------------------------------------------------\n",
            "Reporte para el pipeline 2\n",
            "              precision    recall  f1-score   support\n",
            "\n",
            "           0       0.95      0.99      0.97      4954\n",
            "           1       0.51      0.14      0.22       323\n",
            "\n",
            "    accuracy                           0.94      5277\n",
            "   macro avg       0.73      0.57      0.60      5277\n",
            "weighted avg       0.92      0.94      0.92      5277\n",
            "\n",
            "------------------------------------------------------------\n"
          ]
        }
      ],
      "source": [
        "for i, y_pred in enumerate([y_pred_pipeline_xgboost, y_pred_pipeline_lightgbm]):\n",
        "    print(f'Reporte para el pipeline {i+1}')\n",
        "    print(classification_report(y_test, y_pred, zero_division=0))\n",
        "    print('------'*10)"
      ]
    },
    {
      "cell_type": "markdown",
      "metadata": {
        "id": "uy5VMU6ae_g6"
      },
      "source": [
        "## 2. Predicción de posiciones de jugadores [4 puntos]"
      ]
    },
    {
      "cell_type": "markdown",
      "metadata": {
        "id": "S0PGg_hLgr4H"
      },
      "source": [
        "<p align=\"center\">\n",
        "  <img src=\"https://pbs.twimg.com/media/E1rfA1aWEAYU6Ny.jpg\" width=\"300\">\n",
        "</p>"
      ]
    },
    {
      "cell_type": "markdown",
      "metadata": {
        "id": "I6rSnAesfOm3"
      },
      "source": [
        "En una nueva jornada de desmesuradas transacciones deportivas, Renacín escuchó a sus colegas discutir acerca de que el precio de cada jugador depende en gran medida de la posición en la cancha en la que juega. Y además, que hay bastantes jugadores nuevos que no tienen muy claro en que posición verdaderamente brillarían, por lo que actualmente puede que actualmente estén jugando en posiciones sub-optimas.\n",
        "\n",
        "Viendo que los resultados del primer análisis no son tan esperanzadores, el corporeo los comanda a cambiar su tarea: ahora, les solicita que construyan un clasificador enfocado en predecir la mejor posición de los jugadores en la cancha según sus características.\n",
        "\n",
        "Para lograr esto, primero, les pide que etiqueten de la siguiente manera los valores que aparecen en el atributo `Club_Position`, pidiendo que agrupen los valores en los siguientes grupos:\n",
        "\n",
        "**Nota**:  Renacín les recalca que **no deben utilizar los valores ```Sub``` y ```Res``` de esta columna**.\n",
        "\n",
        "```python\n",
        "ataque = ['ST', 'CF']\n",
        "central_ataque = ['RW', 'CAM', 'LW']\n",
        "central = ['RM', 'CM', 'LM']\n",
        "central_defensa = ['RWB', 'CDM', 'LWB']\n",
        "defensa = ['RB', 'CB', 'LB']\n",
        "arquero = ['GK']\n",
        "```\n",
        "\n",
        "La elección del clasificador se justificar en base a la siguiente [guía](https://scikit-learn.org/stable/tutorial/machine_learning_map/index.html) y se deben comentar los resultados obtenidos en la clasificación.\n",
        "\n",
        "**Tareas:** [1 punto por tarea]\n",
        "\n",
        "1. En un nuevo dataframe, aplique las etiquetas descritas anteriormente en cada uno de los valores señalados en esta sección y guárdelos en la variable `label`.\n",
        "2. Cuente cuántos por clase quedan.\n",
        "3. Entrene el nuevo pipeline y ejecute una evaluación de este.  \n",
        "4. Comente los resultados obtenidos."
      ]
    },
    {
      "cell_type": "markdown",
      "metadata": {
        "id": "sBmSaWh8i2MI"
      },
      "source": [
        "**Respuesta:**"
      ]
    },
    {
      "cell_type": "code",
      "execution_count": 10,
      "metadata": {
        "id": "Ir_7zMh2i1vg"
      },
      "outputs": [
        {
          "data": {
            "text/html": [
              "<div>\n",
              "<style scoped>\n",
              "    .dataframe tbody tr th:only-of-type {\n",
              "        vertical-align: middle;\n",
              "    }\n",
              "\n",
              "    .dataframe tbody tr th {\n",
              "        vertical-align: top;\n",
              "    }\n",
              "\n",
              "    .dataframe thead th {\n",
              "        text-align: right;\n",
              "    }\n",
              "</style>\n",
              "<table border=\"1\" class=\"dataframe\">\n",
              "  <thead>\n",
              "    <tr style=\"text-align: right;\">\n",
              "      <th></th>\n",
              "      <th>Name</th>\n",
              "      <th>Nationality</th>\n",
              "      <th>National_Position</th>\n",
              "      <th>Club_Position</th>\n",
              "      <th>Height</th>\n",
              "      <th>Weight</th>\n",
              "      <th>Preffered_Foot</th>\n",
              "      <th>Age</th>\n",
              "      <th>Work_Rate</th>\n",
              "      <th>Weak_foot</th>\n",
              "      <th>...</th>\n",
              "      <th>Jumping</th>\n",
              "      <th>Heading</th>\n",
              "      <th>Shot_Power</th>\n",
              "      <th>Finishing</th>\n",
              "      <th>Long_Shots</th>\n",
              "      <th>Curve</th>\n",
              "      <th>Freekick_Accuracy</th>\n",
              "      <th>Penalties</th>\n",
              "      <th>Volleys</th>\n",
              "      <th>Seleccionado</th>\n",
              "    </tr>\n",
              "  </thead>\n",
              "  <tbody>\n",
              "    <tr>\n",
              "      <th>0</th>\n",
              "      <td>Cristiano Ronaldo</td>\n",
              "      <td>Portugal</td>\n",
              "      <td>LS</td>\n",
              "      <td>central_ataque</td>\n",
              "      <td>185</td>\n",
              "      <td>80</td>\n",
              "      <td>Right</td>\n",
              "      <td>32</td>\n",
              "      <td>High / Low</td>\n",
              "      <td>4</td>\n",
              "      <td>...</td>\n",
              "      <td>95</td>\n",
              "      <td>85</td>\n",
              "      <td>92</td>\n",
              "      <td>93</td>\n",
              "      <td>90</td>\n",
              "      <td>81</td>\n",
              "      <td>76</td>\n",
              "      <td>85</td>\n",
              "      <td>88</td>\n",
              "      <td>1</td>\n",
              "    </tr>\n",
              "    <tr>\n",
              "      <th>1</th>\n",
              "      <td>Lionel Messi</td>\n",
              "      <td>Argentina</td>\n",
              "      <td>RW</td>\n",
              "      <td>central_ataque</td>\n",
              "      <td>170</td>\n",
              "      <td>72</td>\n",
              "      <td>Left</td>\n",
              "      <td>29</td>\n",
              "      <td>Medium / Medium</td>\n",
              "      <td>4</td>\n",
              "      <td>...</td>\n",
              "      <td>68</td>\n",
              "      <td>71</td>\n",
              "      <td>85</td>\n",
              "      <td>95</td>\n",
              "      <td>88</td>\n",
              "      <td>89</td>\n",
              "      <td>90</td>\n",
              "      <td>74</td>\n",
              "      <td>85</td>\n",
              "      <td>1</td>\n",
              "    </tr>\n",
              "    <tr>\n",
              "      <th>2</th>\n",
              "      <td>Neymar</td>\n",
              "      <td>Brazil</td>\n",
              "      <td>LW</td>\n",
              "      <td>central_ataque</td>\n",
              "      <td>174</td>\n",
              "      <td>68</td>\n",
              "      <td>Right</td>\n",
              "      <td>25</td>\n",
              "      <td>High / Medium</td>\n",
              "      <td>5</td>\n",
              "      <td>...</td>\n",
              "      <td>61</td>\n",
              "      <td>62</td>\n",
              "      <td>78</td>\n",
              "      <td>89</td>\n",
              "      <td>77</td>\n",
              "      <td>79</td>\n",
              "      <td>84</td>\n",
              "      <td>81</td>\n",
              "      <td>83</td>\n",
              "      <td>1</td>\n",
              "    </tr>\n",
              "    <tr>\n",
              "      <th>3</th>\n",
              "      <td>Luis Suárez</td>\n",
              "      <td>Uruguay</td>\n",
              "      <td>LS</td>\n",
              "      <td>ataque</td>\n",
              "      <td>182</td>\n",
              "      <td>85</td>\n",
              "      <td>Right</td>\n",
              "      <td>30</td>\n",
              "      <td>High / Medium</td>\n",
              "      <td>4</td>\n",
              "      <td>...</td>\n",
              "      <td>69</td>\n",
              "      <td>77</td>\n",
              "      <td>87</td>\n",
              "      <td>94</td>\n",
              "      <td>86</td>\n",
              "      <td>86</td>\n",
              "      <td>84</td>\n",
              "      <td>85</td>\n",
              "      <td>88</td>\n",
              "      <td>1</td>\n",
              "    </tr>\n",
              "    <tr>\n",
              "      <th>4</th>\n",
              "      <td>Manuel Neuer</td>\n",
              "      <td>Germany</td>\n",
              "      <td>GK</td>\n",
              "      <td>arquero</td>\n",
              "      <td>193</td>\n",
              "      <td>92</td>\n",
              "      <td>Right</td>\n",
              "      <td>31</td>\n",
              "      <td>Medium / Medium</td>\n",
              "      <td>4</td>\n",
              "      <td>...</td>\n",
              "      <td>78</td>\n",
              "      <td>25</td>\n",
              "      <td>25</td>\n",
              "      <td>13</td>\n",
              "      <td>16</td>\n",
              "      <td>14</td>\n",
              "      <td>11</td>\n",
              "      <td>47</td>\n",
              "      <td>11</td>\n",
              "      <td>1</td>\n",
              "    </tr>\n",
              "    <tr>\n",
              "      <th>...</th>\n",
              "      <td>...</td>\n",
              "      <td>...</td>\n",
              "      <td>...</td>\n",
              "      <td>...</td>\n",
              "      <td>...</td>\n",
              "      <td>...</td>\n",
              "      <td>...</td>\n",
              "      <td>...</td>\n",
              "      <td>...</td>\n",
              "      <td>...</td>\n",
              "      <td>...</td>\n",
              "      <td>...</td>\n",
              "      <td>...</td>\n",
              "      <td>...</td>\n",
              "      <td>...</td>\n",
              "      <td>...</td>\n",
              "      <td>...</td>\n",
              "      <td>...</td>\n",
              "      <td>...</td>\n",
              "      <td>...</td>\n",
              "      <td>...</td>\n",
              "    </tr>\n",
              "    <tr>\n",
              "      <th>17298</th>\n",
              "      <td>Raymond Skjelde</td>\n",
              "      <td>Norway</td>\n",
              "      <td>NaN</td>\n",
              "      <td>defensa</td>\n",
              "      <td>185</td>\n",
              "      <td>75</td>\n",
              "      <td>Right</td>\n",
              "      <td>18</td>\n",
              "      <td>Medium / Medium</td>\n",
              "      <td>2</td>\n",
              "      <td>...</td>\n",
              "      <td>65</td>\n",
              "      <td>44</td>\n",
              "      <td>35</td>\n",
              "      <td>22</td>\n",
              "      <td>25</td>\n",
              "      <td>24</td>\n",
              "      <td>22</td>\n",
              "      <td>41</td>\n",
              "      <td>31</td>\n",
              "      <td>0</td>\n",
              "    </tr>\n",
              "    <tr>\n",
              "      <th>17301</th>\n",
              "      <td>Andrew O'Connor</td>\n",
              "      <td>Republic of Ireland</td>\n",
              "      <td>NaN</td>\n",
              "      <td>defensa</td>\n",
              "      <td>175</td>\n",
              "      <td>73</td>\n",
              "      <td>Left</td>\n",
              "      <td>21</td>\n",
              "      <td>Medium / Medium</td>\n",
              "      <td>3</td>\n",
              "      <td>...</td>\n",
              "      <td>55</td>\n",
              "      <td>43</td>\n",
              "      <td>26</td>\n",
              "      <td>28</td>\n",
              "      <td>29</td>\n",
              "      <td>30</td>\n",
              "      <td>30</td>\n",
              "      <td>31</td>\n",
              "      <td>20</td>\n",
              "      <td>0</td>\n",
              "    </tr>\n",
              "    <tr>\n",
              "      <th>17310</th>\n",
              "      <td>Tom Bolarinwa</td>\n",
              "      <td>England</td>\n",
              "      <td>NaN</td>\n",
              "      <td>central</td>\n",
              "      <td>180</td>\n",
              "      <td>80</td>\n",
              "      <td>Right</td>\n",
              "      <td>26</td>\n",
              "      <td>Medium / Medium</td>\n",
              "      <td>3</td>\n",
              "      <td>...</td>\n",
              "      <td>54</td>\n",
              "      <td>22</td>\n",
              "      <td>38</td>\n",
              "      <td>37</td>\n",
              "      <td>37</td>\n",
              "      <td>37</td>\n",
              "      <td>32</td>\n",
              "      <td>29</td>\n",
              "      <td>29</td>\n",
              "      <td>0</td>\n",
              "    </tr>\n",
              "    <tr>\n",
              "      <th>17312</th>\n",
              "      <td>Zak Mills</td>\n",
              "      <td>England</td>\n",
              "      <td>NaN</td>\n",
              "      <td>defensa</td>\n",
              "      <td>182</td>\n",
              "      <td>83</td>\n",
              "      <td>Right</td>\n",
              "      <td>24</td>\n",
              "      <td>Medium / Medium</td>\n",
              "      <td>4</td>\n",
              "      <td>...</td>\n",
              "      <td>61</td>\n",
              "      <td>43</td>\n",
              "      <td>22</td>\n",
              "      <td>24</td>\n",
              "      <td>28</td>\n",
              "      <td>30</td>\n",
              "      <td>32</td>\n",
              "      <td>39</td>\n",
              "      <td>31</td>\n",
              "      <td>0</td>\n",
              "    </tr>\n",
              "    <tr>\n",
              "      <th>17442</th>\n",
              "      <td>Wataru Hashimoto</td>\n",
              "      <td>Japan</td>\n",
              "      <td>NaN</td>\n",
              "      <td>defensa</td>\n",
              "      <td>181</td>\n",
              "      <td>72</td>\n",
              "      <td>Left</td>\n",
              "      <td>30</td>\n",
              "      <td>Medium / High</td>\n",
              "      <td>2</td>\n",
              "      <td>...</td>\n",
              "      <td>71</td>\n",
              "      <td>41</td>\n",
              "      <td>29</td>\n",
              "      <td>26</td>\n",
              "      <td>26</td>\n",
              "      <td>25</td>\n",
              "      <td>25</td>\n",
              "      <td>31</td>\n",
              "      <td>29</td>\n",
              "      <td>0</td>\n",
              "    </tr>\n",
              "  </tbody>\n",
              "</table>\n",
              "<p>3939 rows × 40 columns</p>\n",
              "</div>"
            ],
            "text/plain": [
              "                    Name          Nationality National_Position  \\\n",
              "0      Cristiano Ronaldo             Portugal                LS   \n",
              "1           Lionel Messi            Argentina                RW   \n",
              "2                 Neymar               Brazil                LW   \n",
              "3            Luis Suárez              Uruguay                LS   \n",
              "4           Manuel Neuer              Germany                GK   \n",
              "...                  ...                  ...               ...   \n",
              "17298    Raymond Skjelde               Norway               NaN   \n",
              "17301    Andrew O'Connor  Republic of Ireland               NaN   \n",
              "17310      Tom Bolarinwa              England               NaN   \n",
              "17312          Zak Mills              England               NaN   \n",
              "17442   Wataru Hashimoto                Japan               NaN   \n",
              "\n",
              "        Club_Position  Height  Weight Preffered_Foot  Age        Work_Rate  \\\n",
              "0      central_ataque     185      80          Right   32       High / Low   \n",
              "1      central_ataque     170      72           Left   29  Medium / Medium   \n",
              "2      central_ataque     174      68          Right   25    High / Medium   \n",
              "3              ataque     182      85          Right   30    High / Medium   \n",
              "4             arquero     193      92          Right   31  Medium / Medium   \n",
              "...               ...     ...     ...            ...  ...              ...   \n",
              "17298         defensa     185      75          Right   18  Medium / Medium   \n",
              "17301         defensa     175      73           Left   21  Medium / Medium   \n",
              "17310         central     180      80          Right   26  Medium / Medium   \n",
              "17312         defensa     182      83          Right   24  Medium / Medium   \n",
              "17442         defensa     181      72           Left   30    Medium / High   \n",
              "\n",
              "       Weak_foot  ...  Jumping  Heading  Shot_Power  Finishing  Long_Shots  \\\n",
              "0              4  ...       95       85          92         93          90   \n",
              "1              4  ...       68       71          85         95          88   \n",
              "2              5  ...       61       62          78         89          77   \n",
              "3              4  ...       69       77          87         94          86   \n",
              "4              4  ...       78       25          25         13          16   \n",
              "...          ...  ...      ...      ...         ...        ...         ...   \n",
              "17298          2  ...       65       44          35         22          25   \n",
              "17301          3  ...       55       43          26         28          29   \n",
              "17310          3  ...       54       22          38         37          37   \n",
              "17312          4  ...       61       43          22         24          28   \n",
              "17442          2  ...       71       41          29         26          26   \n",
              "\n",
              "       Curve  Freekick_Accuracy  Penalties  Volleys  Seleccionado  \n",
              "0         81                 76         85       88             1  \n",
              "1         89                 90         74       85             1  \n",
              "2         79                 84         81       83             1  \n",
              "3         86                 84         85       88             1  \n",
              "4         14                 11         47       11             1  \n",
              "...      ...                ...        ...      ...           ...  \n",
              "17298     24                 22         41       31             0  \n",
              "17301     30                 30         31       20             0  \n",
              "17310     37                 32         29       29             0  \n",
              "17312     30                 32         39       31             0  \n",
              "17442     25                 25         31       29             0  \n",
              "\n",
              "[3939 rows x 40 columns]"
            ]
          },
          "execution_count": 10,
          "metadata": {},
          "output_type": "execute_result"
        }
      ],
      "source": [
        "#Etiquetas\n",
        "ataque = ['ST', 'CF'] \n",
        "central_ataque = ['RW', 'CAM', 'LW'] \n",
        "central = ['RM', 'CM', 'LM'] \n",
        "central_defensa = ['RWB', 'CDM', 'LWB']\n",
        "defensa = ['RB', 'CB', 'LB']\n",
        "arquero = ['GK']\n",
        "\n",
        "def map_position(x):\n",
        "    if x in ataque:\n",
        "        return 'ataque'\n",
        "    elif x in central_ataque:\n",
        "        return 'central_ataque'\n",
        "    elif x in central:\n",
        "        return 'central'\n",
        "    elif x in central_defensa:\n",
        "        return 'central_defensa'\n",
        "    elif x in defensa:\n",
        "        return 'defensa'\n",
        "    elif x in arquero:\n",
        "        return 'arquero'\n",
        "\n",
        "### Drop Sub y Res\n",
        "df_players_filter = df_players[~df_players[\"Club_Position\"].isin(['Sub','Res'])].copy()\n",
        "\n",
        "### Mapeo posiciones\n",
        "df_players_filter[\"Club_Position\"] = df_players_filter[\"Club_Position\"].apply(map_position)\n",
        "\n",
        "### Eliminando NAN\n",
        "df_players_filter=df_players_filter[~df_players_filter.Club_Position.isna()]\n",
        "\n",
        "df_players_filter"
      ]
    },
    {
      "cell_type": "code",
      "execution_count": 11,
      "metadata": {},
      "outputs": [
        {
          "name": "stdout",
          "output_type": "stream",
          "text": [
            "Cantidad de jugadores central_ataque: 581\n",
            "Cantidad de jugadores ataque: 430\n",
            "Cantidad de jugadores arquero: 632\n",
            "Cantidad de jugadores defensa: 1180\n",
            "Cantidad de jugadores central: 907\n",
            "Cantidad de jugadores central_defensa: 209\n"
          ]
        }
      ],
      "source": [
        "for value in df_players_filter.Club_Position.unique():\n",
        "    print(f'Cantidad de jugadores {value}: {(df_players_filter.Club_Position==value).sum()}')"
      ]
    },
    {
      "cell_type": "code",
      "execution_count": 13,
      "metadata": {},
      "outputs": [],
      "source": [
        "from sklearn import svm\n",
        "### Split train test\n",
        "X_train, X_test, y_train, y_test = train_test_split(df_players_filter.drop(columns = ['Name', 'Nationality', 'National_Position', 'Seleccionado', 'Club_Position']), \n",
        "                                                    df_players_filter['Club_Position'],\n",
        "                                                    test_size=0.3, random_state=3,\n",
        "                                                    stratify = df_players_filter['Club_Position'])\n",
        "\n",
        "### Pipelines sin club position\n",
        "preprocess_data = ColumnTransformer(\n",
        "    transformers=[\n",
        "        ('OneHotEncoder', OneHotEncoder(handle_unknown='ignore'),  ['Preffered_Foot', 'Work_Rate']),\n",
        "        ('StandardScaler', StandardScaler(),\n",
        "         ['Height', 'Weight', 'Age', \n",
        "          'Ball_Control', 'Dribbling',\n",
        "          'Marking', 'Sliding_Tackle', 'Standing_Tackle',\n",
        "          'Aggression', 'Reactions', 'Interceptions', 'Vision',\n",
        "          'Composure', 'Crossing', 'Short_Pass', 'Long_Pass', 'Acceleration',\n",
        "          'Speed', 'Stamina', 'Strength', 'Balance', 'Agility', 'Jumping',\n",
        "          'Heading', 'Shot_Power', 'Finishing', 'Long_Shots', 'Curve',\n",
        "          'Freekick_Accuracy', 'Penalties', 'Volleys']), \n",
        "        ('MinMaxScaler', MinMaxScaler(), ['Weak_foot', 'Skill_Moves'])])\n",
        "\n",
        "#Creamos ahora los pipelines \n",
        "Pipe1 = Pipeline([('Preprocessing', preprocess_data),('SVC', svm.SVC())])\n",
        "\n",
        "### Hacemos fit a los modelos \n",
        "Pipe1.fit(X_train, y_train)\n",
        "\n",
        "### Hacemos las predicciones de cada uno de los modelos\n",
        "y_pred_pipe1 = Pipe1.predict(X_test)"
      ]
    },
    {
      "cell_type": "code",
      "execution_count": 14,
      "metadata": {},
      "outputs": [
        {
          "name": "stdout",
          "output_type": "stream",
          "text": [
            "Reporte para el pipeline 1\n",
            "                 precision    recall  f1-score   support\n",
            "\n",
            "        arquero       1.00      1.00      1.00       190\n",
            "         ataque       0.78      0.84      0.81       129\n",
            "        central       0.58      0.67      0.62       272\n",
            " central_ataque       0.62      0.30      0.40       174\n",
            "central_defensa       0.59      0.27      0.37        63\n",
            "        defensa       0.80      0.96      0.87       354\n",
            "\n",
            "       accuracy                           0.75      1182\n",
            "      macro avg       0.73      0.67      0.68      1182\n",
            "   weighted avg       0.74      0.75      0.73      1182\n",
            "\n",
            "------------------------------------------------------------\n"
          ]
        }
      ],
      "source": [
        "for i, y_pred in enumerate([y_pred_pipe1]):\n",
        "    print(f'Reporte para el pipeline {i+1}')\n",
        "    print(classification_report(y_test, y_pred, zero_division=0))\n",
        "    print('------'*10)"
      ]
    },
    {
      "cell_type": "markdown",
      "metadata": {
        "id": "9bL2m8nNojXM"
      },
      "source": [
        "## 3. Predicciones de Seleccionados Nacionales para el Jere Klein [30 puntos]"
      ]
    },
    {
      "cell_type": "markdown",
      "metadata": {
        "id": "_2XmRsJdsEh_"
      },
      "source": [
        "<center>\n",
        "<img src='https://www.radioactiva.cl/wp-content/uploads/2024/04/Jere-Klein-1-768x432.webp' width=500 />"
      ]
    },
    {
      "cell_type": "markdown",
      "metadata": {
        "id": "AgmUoVDsqUPu"
      },
      "source": [
        "Después de alcanzar la fama como cantante urbano, Jere Klein decide explorar una nueva faceta. Con su amor por el fútbol y convencido de que los artistas urbanos poseen un talento y versatilidad excepcionales, Jere se embarca en un proyecto innovador: desarrollar un sistema de inteligencia artificial capaz de identificar a jugadores que tienen potencial para convertirse en futbolistas profesionales. Su teoría es que muchos artistas del género urbano chileno, con sus habilidades únicas y su disciplina, podrían destacarse también en el deporte. Con este sistema, Jere espera no solo abrir nuevas oportunidades para sus colegas artistas, sino también demostrar la amplia gama de talentos que pueden ofrecer."
      ]
    },
    {
      "cell_type": "markdown",
      "metadata": {
        "id": "rD8pQ5Zfq8dE"
      },
      "source": [
        "### 2.1 ¿Qué modelo de árbol es más de \"pana\"? [10 puntos]"
      ]
    },
    {
      "cell_type": "markdown",
      "metadata": {
        "id": "zB-KUA4g99eo"
      },
      "source": [
        "<center>\n",
        "<img src='https://64.media.tumblr.com/39189215a7d3d96823cb359f35b44e05/tumblr_psmrhrR3Xw1qf5hjqo4_540.gif' width=300 />"
      ]
    },
    {
      "cell_type": "markdown",
      "metadata": {
        "id": "uL-moVhB9vPH"
      },
      "source": [
        "\n",
        "**Tareas**\n",
        "\n",
        "\n",
        "1. Considerando el la variable llamada `label` creada en la sección 1.1. Para determinar cuál modelo de árbol sería más adecuado para la tarea en cuestión, utilice PyCaret. Este deberá centrarse exclusivamente en modelos de tipo árbol. Jere ha especificado que busca un modelo que tome decisiones rápidamente y que tenga una baja tasa de falsos positivos, ya que planea invertir en estos jugadores. [3 puntos] \n",
        "\n",
        "Para la comparación, utilice los siguientes modelos:\n",
        "\n",
        "```python\n",
        "['et', 'rf', 'dt', 'xgboost', 'lightgbm', 'catboost']\n",
        "```\n",
        "\n",
        "2. Explique en brevemente que son los modelos de la siguiente lista `['et', 'rf', 'dt']` y como funcionan. [3 punto]\n",
        "\n",
        "3. Tras realizar la comparación de modelos, seleccione aquel que muestre el mejor rendimiento en términos de velocidad y precisión, especialmente en la reducción de falsos positivos. Utilice la función `evaluate_model` de PyCaret para revisar y analizar los resultados obtenidos en los siguientes aspectos:\n",
        "\n",
        "  - **Confusión Matrix**: ¿Cómo se encuentran la tasa de verdaderos positivos y verdaderos negativos?\n",
        "  - **Threshold**: ¿Es acaso el umbral por defecto del modelo el mejor para las predicciones?\n",
        "  - **Feature Importance**: ¿Cuáles son las variables con mejor desempeño? ¿A qué podría deberse esto?\n",
        "  - **Learning Curve**: ¿El modelo presenta algún problema?\n",
        "\n",
        "  [4 puntos]"
      ]
    },
    {
      "cell_type": "markdown",
      "metadata": {
        "id": "qY85nrViYROF"
      },
      "source": [
        "**Respuesta**"
      ]
    },
    {
      "cell_type": "code",
      "execution_count": null,
      "metadata": {
        "id": "kUCjOjsEYUXL"
      },
      "outputs": [],
      "source": [
        "from pycaret.datasets import get_data\n",
        "from pycaret.classification import *\n",
        "import os\n",
        "\n",
        "os.environ[\"PYCARET_CUSTOM_LOGGING_LEVEL\"] = \"CRITICAL\"\n",
        "\n",
        "#Continuar código aquí"
      ]
    },
    {
      "cell_type": "markdown",
      "metadata": {
        "id": "K8DSS3u1xMpB"
      },
      "source": [
        "### 2.2 Reducción de dimensionalidad [14 puntos]"
      ]
    },
    {
      "cell_type": "markdown",
      "metadata": {
        "id": "RLu0543p876P"
      },
      "source": [
        "<center>\n",
        "<img src='https://i.kym-cdn.com/photos/images/original/002/258/560/668.gif' width=400 />"
      ]
    },
    {
      "cell_type": "markdown",
      "metadata": {
        "id": "QT-bxJ0txwNF"
      },
      "source": [
        "A pesar de los resultados obtenidos previamente, el manager de Jere ha solicitado el entrenamiento de un modelo de XGBoost utilizando los datos disponibles. Además, se debe proceder a realizar una reducción de dimensionalidad basada en la importancia de las características.\n",
        "\n",
        "Para llevar a cabo esta tarea:\n",
        "\n",
        "1. Inicie entrenando un modelo XGBoost con todas las características disponibles. [2 puntos]\n",
        "\n",
        "2. Una vez el modelo esté entrenado, evalúe y clasifique las características según su importancia de forma descendente. [2 puntos]\n",
        "\n",
        "3. Utilice esta clasificación para ejecutar una búsqueda recursiva de eliminación de características, eliminando progresivamente las menos importantes y evaluando el impacto en el desempeño del modelo hasta identificar las N características más críticas. [2 puntos]\n",
        "\n",
        "4. Con este conjunto reducido de características, entrene un nuevo modelo y evalúe su rendimiento. [2 puntos]\n",
        "\n",
        "5. Posteriormente, responda a las siguientes preguntas para una comprensión más profunda de los cambios y beneficios:\n",
        "\n",
        "  - ¿El rendimiento del modelo con las características seleccionadas es similar al del modelo original? ¿Cómo se comparan en términos de precisión y robustez? [2 puntos]\n",
        "  - ¿Cuáles son los beneficios potenciales de eliminar variables del modelo? Considere factores como la simplificación del modelo, reducción del tiempo de entrenamiento, y mejora en la capacidad de generalización. [2 puntos]\n",
        "  - Comente si el modelo con menor dimensionalidad es más sencillo de explicar. Explique brevemente por qué la eliminación de ciertas características puede facilitar la comprensión y la explicación del comportamiento del modelo. [2 puntos]\n",
        "\n",
        "Notar que con esta metodologia buscamos encontrar un punto entermedio entre número de festures y desempeño. por esto, si observa que al aumentar festires el aumento es despreciable, puede no considerar agregar más features a su modelo."
      ]
    },
    {
      "cell_type": "markdown",
      "metadata": {
        "id": "NHfmK63TuDOS"
      },
      "source": [
        "**Respuesta**"
      ]
    },
    {
      "cell_type": "code",
      "execution_count": null,
      "metadata": {
        "id": "HQwUd_nsuDOe"
      },
      "outputs": [],
      "source": []
    },
    {
      "cell_type": "markdown",
      "metadata": {
        "id": "PTG5cH9r3M9g"
      },
      "source": [
        "### 2.3 Calibración Probabilistica [6 puntos]"
      ]
    },
    {
      "cell_type": "markdown",
      "metadata": {
        "id": "CDL0VqjR7yvb"
      },
      "source": [
        "<center>\n",
        "<img src='https://media2.giphy.com/media/l2Je4Ku0Cx292KWv6/200w.gif?cid=6c09b952y0sihtq9tb6sz8j2023x3zxxp3qx1ocgonkpkblj&ep=v1_gifs_search&rid=200w.gif&ct=g' width=400 />"
      ]
    },
    {
      "cell_type": "markdown",
      "metadata": {
        "id": "qmOKxhAw3sic"
      },
      "source": [
        "Para lograr modelos más modulares, se recomienda realizar una calibración del modelo entrenado anteriormente, con el objetivo de obtener salidas que reflejen mayor modularidad.\n",
        "\n",
        "1. Se solicita que utilice un método de calibración que asegure que las probabilidades generadas incrementen de manera monótona. Una métrica ampliamente utilizada para evaluar la precisión de la calibración de un modelo es el Brier Score. Calcule el Brier Score para el modelo tanto antes como después de la calibración. Esto le permitirá realizar una comparación cuantitativa y determinar si la calibración ha mejorado el rendimiento del modelo. Para más información sobre el Brier Score, puede consultar el siguiente enlace: [Scikit-Learn - Brier Score Loss](https://scikit-learn.org/stable/modules/generated/sklearn.metrics.brier_score_loss.html). [3 puntos]\n",
        "\n",
        "2. Tras la calibración, examine y comente los resultados obtenidos. A su análisis añada una comparación visual de las ideales versus las salidas del modelo original (sin calibrar) y del modelo calibrado. [3 puntos]"
      ]
    },
    {
      "cell_type": "markdown",
      "metadata": {
        "id": "QIiYz_qLuD19"
      },
      "source": [
        "**Respuesta**"
      ]
    },
    {
      "cell_type": "code",
      "execution_count": null,
      "metadata": {
        "id": "l0bfSuiFuD2I"
      },
      "outputs": [],
      "source": []
    }
  ],
  "metadata": {
    "colab": {
      "collapsed_sections": [
        "k-ao0mOU64Ru",
        "Jg_9jBqtgRDO",
        "JdcucZhp-M_0",
        "Qfre1YsSDqla",
        "Bv1HOfcNEPF4",
        "poc9HSNBFeKO",
        "uy5VMU6ae_g6",
        "9bL2m8nNojXM",
        "rD8pQ5Zfq8dE",
        "K8DSS3u1xMpB",
        "PTG5cH9r3M9g"
      ],
      "provenance": []
    },
    "kernelspec": {
      "display_name": "base",
      "language": "python",
      "name": "python3"
    },
    "language_info": {
      "codemirror_mode": {
        "name": "ipython",
        "version": 3
      },
      "file_extension": ".py",
      "mimetype": "text/x-python",
      "name": "python",
      "nbconvert_exporter": "python",
      "pygments_lexer": "ipython3",
      "version": "3.12.4"
    }
  },
  "nbformat": 4,
  "nbformat_minor": 0
}
